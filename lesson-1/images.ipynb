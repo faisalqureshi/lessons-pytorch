{
 "cells": [
  {
   "cell_type": "markdown",
   "metadata": {},
   "source": [
    "# Loading images and computing relevant statistics\n",
    "\n",
    "**[Faisal Z. Qureshi](http://vclab.science.uoit.ca)**  \n",
    "\n",
    "You can find excellent documentation for Pytorch at [https://pytorch.org/docs/stable/index.html](https://pytorch.org/docs/stable/index.html)"
   ]
  },
  {
   "cell_type": "markdown",
   "metadata": {},
   "source": [
    "Loading an image using PIL and showing it using matplotlib"
   ]
  },
  {
   "cell_type": "code",
   "execution_count": 1,
   "metadata": {},
   "outputs": [
    {
     "name": "stdout",
     "output_type": "stream",
     "text": [
      "<PIL.PngImagePlugin.PngImageFile image mode=P size=481x321 at 0x7FCE2C1AC6D8>\n"
     ]
    }
   ],
   "source": [
    "from PIL import Image\n",
    "\n",
    "filename = './3063.png'\n",
    "image = Image.open(filename)\n",
    "print(image)"
   ]
  },
  {
   "cell_type": "code",
   "execution_count": 2,
   "metadata": {},
   "outputs": [
    {
     "data": {
      "text/plain": [
       "<Figure size 640x480 with 1 Axes>"
      ]
     },
     "metadata": {},
     "output_type": "display_data"
    }
   ],
   "source": [
    "import matplotlib.pyplot as plt\n",
    "plt.imshow(image)\n",
    "plt.show()"
   ]
  },
  {
   "cell_type": "markdown",
   "metadata": {},
   "source": [
    "Converting the image to a numpy array."
   ]
  },
  {
   "cell_type": "code",
   "execution_count": 3,
   "metadata": {},
   "outputs": [
    {
     "name": "stdout",
     "output_type": "stream",
     "text": [
      "Shape of im (321, 481)\n"
     ]
    },
    {
     "data": {
      "image/png": "[encoded data removed]",
      "text/plain": [
       "<Figure size 432x288 with 1 Axes>"
      ]
     },
     "metadata": {
      "needs_background": "light"
     },
     "output_type": "display_data"
    }
   ],
   "source": [
    "import numpy as np\n",
    "im = np.array(image)\n",
    "print('Shape of im', im.shape)\n",
    "plt.imshow(im)\n",
    "plt.show()"
   ]
  },
  {
   "cell_type": "markdown",
   "metadata": {},
   "source": [
    "Converting an image to a torch tensor.\n",
    "\n",
    "We use `torchvision.transforms.ToTensor()` to convert the PIL image to a tensor.  Note that torch assumes that the first dimension includes channels.  This is different from how we typically represent images.  In general we assume that the last dimension includes channels.\n",
    "\n",
    "This suggests we will have to transpose the torch tensor before we can display it using matplotlib.  Of course this assumes that tensor type is `float` and pixel values lie between 0.0 and 1.0."
   ]
  },
  {
   "cell_type": "code",
   "execution_count": 4,
   "metadata": {},
   "outputs": [
    {
     "name": "stdout",
     "output_type": "stream",
     "text": [
      "Shape of torch tensor representing our image torch.Size([1, 321, 481])\n"
     ]
    }
   ],
   "source": [
    "from torchvision import transforms\n",
    "t = transforms.Compose([transforms.ToTensor()])\n",
    "tim = t(image)\n",
    "print('Shape of torch tensor representing our image', tim.shape)"
   ]
  },
  {
   "cell_type": "code",
   "execution_count": 6,
   "metadata": {},
   "outputs": [
    {
     "name": "stdout",
     "output_type": "stream",
     "text": [
      "torch.Size([321, 481])\n"
     ]
    },
    {
     "data": {
      "image/png": "[encoded data removed]",
      "text/plain": [
       "<Figure size 432x288 with 1 Axes>"
      ]
     },
     "metadata": {
      "needs_background": "light"
     },
     "output_type": "display_data"
    }
   ],
   "source": [
    "timcopy = tim.transpose(0,2).transpose(0,1).squeeze()\n",
    "print(timcopy.shape)\n",
    "plt.imshow(timcopy)\n",
    "plt.show()"
   ]
  },
  {
   "cell_type": "markdown",
   "metadata": {},
   "source": [
    "Computing mean and variance for red, blue and green channels.\n",
    "\n",
    "We assume that an image is `(num_channels) x (num_rows) x (num_columns)`.  Note that num_rows refer to the height of the image, num_columns refer to the width of the image.  We will first reshape the image as `(num_channels) x [(num_rows) x (num_columns)]` and then use `torch.mean` to compute mean values for each row (i.e., each channel).\n",
    "\n",
    "This operation is routinely performed during a data preprocessing step."
   ]
  },
  {
   "cell_type": "code",
   "execution_count": 7,
   "metadata": {},
   "outputs": [
    {
     "name": "stdout",
     "output_type": "stream",
     "text": [
      "Per-channel mean values are\n",
      " tensor([[0.0263],\n",
      "        [0.4167],\n",
      "        [0.0258]])\n",
      "Per-channel variance values are\n",
      " tensor([[0.0256],\n",
      "        [0.2431],\n",
      "        [0.0251]])\n"
     ]
    }
   ],
   "source": [
    "import torch\n",
    "\n",
    "#print(tim.shape)\n",
    "tim2 = tim.view(3,-1)\n",
    "#print(tim2.shape)\n",
    "means = torch.mean(tim2, dim=1, keepdim=True)\n",
    "print('Per-channel mean values are\\n', means)\n",
    "\n",
    "vars = torch.var(tim2, dim=1, keepdim=True)\n",
    "print('Per-channel variance values are\\n', vars)"
   ]
  },
  {
   "cell_type": "markdown",
   "metadata": {},
   "source": [
    "We can use the mean and variance to normalize the image.  Each channel will be zero centered with variance 1.0"
   ]
  },
  {
   "cell_type": "code",
   "execution_count": 8,
   "metadata": {},
   "outputs": [
    {
     "name": "stdout",
     "output_type": "stream",
     "text": [
      "Mean and variance before normalization:\n",
      "tensor([[0.0263],\n",
      "        [0.4167],\n",
      "        [0.0258]])\n",
      "tensor([[0.0256],\n",
      "        [0.2431],\n",
      "        [0.0251]])\n",
      "Mean and variance after normalization.  We get 0 means and unit variance.\n",
      "tensor([[ 2.5974e-06],\n",
      "        [ 2.4400e+00],\n",
      "        [-3.1548e-03]])\n",
      "tensor([[1.0000],\n",
      "        [9.4953],\n",
      "        [0.9813]])\n"
     ]
    }
   ],
   "source": [
    "sds = torch.sqrt(vars)\n",
    "\n",
    "t = transforms.Normalize(means, sds)\n",
    "\n",
    "# This is our normalized image\n",
    "nim = t(tim.clone()) # transform.Normalize seem to change the tensor inplace\n",
    "\n",
    "# We can check that it is normalized, by computing its mean and standard deviation\n",
    "print(\"Mean and variance before normalization:\")\n",
    "print(torch.mean(tim.view(3,-1), dim=1, keepdim=True))\n",
    "print(torch.var(tim.view(3,-1), dim=1, keepdim=True))\n",
    "\n",
    "print(\"Mean and variance after normalization.  We get 0 means and unit variance.\")\n",
    "print(torch.mean(nim.view(3,-1), dim=1, keepdim=True))\n",
    "print(torch.var(nim.view(3,-1), dim=1, keepdim=True))"
   ]
  },
  {
   "cell_type": "markdown",
   "metadata": {},
   "source": [
    "See timing with and without using cuda"
   ]
  },
  {
   "cell_type": "code",
   "execution_count": 9,
   "metadata": {},
   "outputs": [
    {
     "name": "stdout",
     "output_type": "stream",
     "text": [
      "Without cuda\n",
      "0.02993178367614746\n",
      "With cuda\n",
      "0.01963067054748535\n"
     ]
    }
   ],
   "source": [
    "import time\n",
    "\n",
    "is_cuda = torch.cuda.is_available()\n",
    "\n",
    "print('Without cuda')\n",
    "start_time_1 = time.time()\n",
    "for i in range(100):\n",
    "    tim.var()\n",
    "end_time_1 = time.time()\n",
    "print(end_time_1 - start_time_1)\n",
    "\n",
    "if is_cuda:\n",
    "    print('With cuda')\n",
    "    tim_ = tim.cuda()\n",
    "    start_time_2 = time.time()\n",
    "    for i in range(100):\n",
    "        tim_.var()\n",
    "    end_time_2 = time.time()\n",
    "    print(end_time_2 - start_time_2)"
   ]
  },
  {
   "cell_type": "code",
   "execution_count": null,
   "metadata": {},
   "outputs": [],
   "source": []
  },
  {
   "cell_type": "code",
   "execution_count": null,
   "metadata": {},
   "outputs": [],
   "source": []
  }
 ],
 "metadata": {
  "kernelspec": {
   "display_name": "Python 3",
   "language": "python",
   "name": "python3"
  },
  "language_info": {
   "codemirror_mode": {
    "name": "ipython",
    "version": 3
   },
   "file_extension": ".py",
   "mimetype": "text/x-python",
   "name": "python",
   "nbconvert_exporter": "python",
   "pygments_lexer": "ipython3",
   "version": "3.6.8"
  }
 },
 "nbformat": 4,
 "nbformat_minor": 2
}
