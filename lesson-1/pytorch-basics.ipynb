{
 "cells": [
  {
   "cell_type": "markdown",
   "metadata": {},
   "source": [
    "# The basics\n",
    "\n",
    "You can find excellent documentation for Pytorch at [https://pytorch.org/docs/stable/index.html](https://pytorch.org/docs/stable/index.html)"
   ]
  },
  {
   "cell_type": "code",
   "execution_count": 38,
   "metadata": {},
   "outputs": [],
   "source": [
    "import torch"
   ]
  },
  {
   "cell_type": "code",
   "execution_count": 39,
   "metadata": {},
   "outputs": [
    {
     "data": {
      "text/plain": [
       "tensor([[1, 2, 3],\n",
       "        [4, 5, 6]])"
      ]
     },
     "execution_count": 39,
     "metadata": {},
     "output_type": "execute_result"
    }
   ],
   "source": [
    "t = torch.tensor([[1,2,3],[4,5,6]])\n",
    "t"
   ]
  },
  {
   "cell_type": "code",
   "execution_count": 40,
   "metadata": {},
   "outputs": [
    {
     "data": {
      "text/plain": [
       "tensor([[1, 4],\n",
       "        [2, 5],\n",
       "        [3, 6]])"
      ]
     },
     "execution_count": 40,
     "metadata": {},
     "output_type": "execute_result"
    }
   ],
   "source": [
    "t.t()"
   ]
  },
  {
   "cell_type": "code",
   "execution_count": 41,
   "metadata": {},
   "outputs": [
    {
     "name": "stdout",
     "output_type": "stream",
     "text": [
      "tensor([[1, 4],\n",
      "        [2, 5],\n",
      "        [3, 6]])\n"
     ]
    }
   ],
   "source": [
    "print(t.permute(-1,0))"
   ]
  },
  {
   "cell_type": "code",
   "execution_count": 42,
   "metadata": {},
   "outputs": [
    {
     "name": "stdout",
     "output_type": "stream",
     "text": [
      "shape: torch.Size([2, 3])\n",
      "size: torch.Size([2, 3])\n",
      "dim: 2\n",
      "type: torch.LongTensor\n",
      "num elements: 6\n"
     ]
    }
   ],
   "source": [
    "print('shape:',t.shape)\n",
    "print('size:',t.size())\n",
    "print('dim:',t.dim())\n",
    "print('type:',t.type())\n",
    "print('num elements:', torch.numel(t))"
   ]
  },
  {
   "cell_type": "markdown",
   "metadata": {},
   "source": [
    "## Changing tensor views"
   ]
  },
  {
   "cell_type": "code",
   "execution_count": 52,
   "metadata": {},
   "outputs": [
    {
     "name": "stdout",
     "output_type": "stream",
     "text": [
      "tensor([[1, 2, 3],\n",
      "        [4, 5, 6]])\n",
      "View example:\n",
      " tensor([[1, 2, 3, 4, 5, 6]])\n",
      "View example:\n",
      " tensor([[1],\n",
      "        [2],\n",
      "        [3],\n",
      "        [4],\n",
      "        [5],\n",
      "        [6]])\n",
      "View example:\n",
      " tensor([[1, 2],\n",
      "        [3, 4],\n",
      "        [5, 6]])\n"
     ]
    }
   ],
   "source": [
    "t = torch.tensor([[1,2,3],[4,5,6]])\n",
    "\n",
    "print(t)\n",
    "print('View example:\\n', t.view(1,-1))\n",
    "print('View example:\\n', t.view(-1,1))\n",
    "print('View example:\\n', t.view(3,2))"
   ]
  },
  {
   "cell_type": "markdown",
   "metadata": {},
   "source": [
    "## Slicing"
   ]
  },
  {
   "cell_type": "code",
   "execution_count": 44,
   "metadata": {},
   "outputs": [
    {
     "name": "stdout",
     "output_type": "stream",
     "text": [
      "Matlab or numpy style slicing:\n",
      " tensor([4, 5, 6])\n",
      "Matlab or numpy style slicing:\n",
      " tensor([2, 5])\n",
      "Matlab or numpy style slicing:\n",
      " tensor(6)\n",
      "Matlab or numpy style slicing:\n",
      " tensor([[6]])\n",
      "Matlab or numpy style slicing:\n",
      " tensor([[2, 3],\n",
      "        [5, 6]])\n"
     ]
    }
   ],
   "source": [
    "# First row\n",
    "print('Matlab or numpy style slicing:\\n',t[1,:])\n",
    "\n",
    "# Second column\n",
    "print('Matlab or numpy style slicing:\\n',t[:,1])\n",
    "\n",
    "# Lower right most element\n",
    "print('Matlab or numpy style slicing:\\n',t[-1,-1])\n",
    "\n",
    "# Lower right most 1 x 1 submatrix\n",
    "print('Matlab or numpy style slicing:\\n',t[-1:,-1:])\n",
    "\n",
    "# Lower right most 2 x 2submatrix\n",
    "print('Matlab or numpy style slicing:\\n',t[-2:,-2:])"
   ]
  },
  {
   "cell_type": "markdown",
   "metadata": {},
   "source": [
    "## Torch and Numpy"
   ]
  },
  {
   "cell_type": "code",
   "execution_count": 54,
   "metadata": {},
   "outputs": [
    {
     "name": "stdout",
     "output_type": "stream",
     "text": [
      "numpy:\n",
      " [[-1.83469076 -3.24983939  0.01820917 -2.30882129]\n",
      " [ 0.10859685 -2.29857205 -0.56827454 -0.34940507]]\n",
      "torch:\n",
      " tensor([[-1.8347, -3.2498,  0.0182, -2.3088],\n",
      "        [ 0.1086, -2.2986, -0.5683, -0.3494]], dtype=torch.float64)\n",
      "<class 'numpy.ndarray'>\n",
      "<class 'torch.Tensor'>\n",
      "<class 'numpy.ndarray'>\n"
     ]
    }
   ],
   "source": [
    "import numpy as np\n",
    "\n",
    "a = np.random.randn(2, 4)\n",
    "\n",
    "# Constructing a torch tensor from a numpy array\n",
    "t = torch.from_numpy(a)\n",
    "\n",
    "# Back to numpy\n",
    "b = t.numpy()\n",
    "\n",
    "print('numpy:\\n', a)\n",
    "print('torch:\\n', t)\n",
    "print(type(a))\n",
    "print(type(t))\n",
    "print(type(b))"
   ]
  },
  {
   "cell_type": "markdown",
   "metadata": {},
   "source": [
    "## Some common schemes for tensor creation"
   ]
  },
  {
   "cell_type": "code",
   "execution_count": 47,
   "metadata": {},
   "outputs": [
    {
     "name": "stdout",
     "output_type": "stream",
     "text": [
      "Zero tensor:\n",
      " tensor([[[0., 0., 0., 0.],\n",
      "         [0., 0., 0., 0.],\n",
      "         [0., 0., 0., 0.]],\n",
      "\n",
      "        [[0., 0., 0., 0.],\n",
      "         [0., 0., 0., 0.],\n",
      "         [0., 0., 0., 0.]]])\n",
      "Ones tensor:\n",
      " tensor([[[1., 1., 1., 1.],\n",
      "         [1., 1., 1., 1.],\n",
      "         [1., 1., 1., 1.]],\n",
      "\n",
      "        [[1., 1., 1., 1.],\n",
      "         [1., 1., 1., 1.],\n",
      "         [1., 1., 1., 1.]]])\n",
      "Random - Uniform, between 0 and 1):\n",
      " tensor([[[0.7195, 0.8974, 0.2553, 0.8781],\n",
      "         [0.4330, 0.9897, 0.1136, 0.7497],\n",
      "         [0.3699, 0.1504, 0.8127, 0.9753]],\n",
      "\n",
      "        [[0.8365, 0.6016, 0.1002, 0.1545],\n",
      "         [0.2338, 0.2391, 0.1702, 0.7490],\n",
      "         [0.1597, 0.3666, 0.0014, 0.0194]]])\n",
      "Random - Normal, mean 0 and standard deviation 1 :\n",
      " tensor([[[ 0.4914,  1.6938, -1.2021, -0.6227],\n",
      "         [-1.2622, -0.1029, -1.5681,  0.3354],\n",
      "         [ 0.8180, -0.0373, -0.9285,  0.2488]],\n",
      "\n",
      "        [[-1.3298, -0.1274,  0.9967, -2.1217],\n",
      "         [ 1.1931, -2.5695,  0.3961, -0.2329],\n",
      "         [ 0.8081, -1.0356, -1.8319,  0.1061]]])\n"
     ]
    }
   ],
   "source": [
    "# A zero tensor\n",
    "print('Zero tensor:\\n', torch.zeros(2,3,4))\n",
    "\n",
    "# A one tensor\n",
    "print('Ones tensor:\\n', torch.ones(2,3,4))\n",
    "\n",
    "# Some random tensors\n",
    "print('Random - Uniform, between 0 and 1):\\n', torch.rand(2,3,4))\n",
    "print('Random - Normal, mean 0 and standard deviation 1 :\\n', torch.randn(2,3,4))"
   ]
  },
  {
   "cell_type": "markdown",
   "metadata": {},
   "source": [
    "## Tensor concatenation"
   ]
  },
  {
   "cell_type": "code",
   "execution_count": 10,
   "metadata": {},
   "outputs": [
    {
     "name": "stdout",
     "output_type": "stream",
     "text": [
      "t1:\n",
      " tensor([[1, 2, 3],\n",
      "        [4, 5, 7]])\n",
      "t2:\n",
      " tensor([[ 8,  9, 10],\n",
      "        [11, 12, 13]])\n",
      "tensor([[ 1,  2,  3],\n",
      "        [ 4,  5,  7],\n",
      "        [ 8,  9, 10],\n",
      "        [11, 12, 13]])\n",
      "tensor([[ 1,  2,  3,  8,  9, 10],\n",
      "        [ 4,  5,  7, 11, 12, 13]])\n"
     ]
    }
   ],
   "source": [
    "t1 = torch.tensor([[1,2,3],[4,5,7]])\n",
    "t2 = torch.tensor([[8,9,10],[11,12,13]])\n",
    "\n",
    "print('t1:\\n', t1)\n",
    "print('t2:\\n', t2)\n",
    "\n",
    "# Concatenating two tensors along 0 (first, rows in this case) dimension\n",
    "print(torch.cat((t1,t2),0))\n",
    "\n",
    "# Concatenating two tensors along 1 (second, columns in this case) dimension\n",
    "print(torch.cat((t1,t2),1))"
   ]
  },
  {
   "cell_type": "code",
   "execution_count": 30,
   "metadata": {},
   "outputs": [
    {
     "name": "stdout",
     "output_type": "stream",
     "text": [
      "tensor([[1, 2, 3],\n",
      "        [4, 5, 6],\n",
      "        [7, 8, 9]])\n",
      "tensor([[ 1,  3,  6],\n",
      "        [ 4,  9, 15],\n",
      "        [ 7, 15, 24]])\n",
      "tensor([[ 1,  2,  3],\n",
      "        [ 5,  7,  9],\n",
      "        [12, 15, 18]])\n"
     ]
    }
   ],
   "source": [
    "t = torch.tensor([[1,2,3],[4,5,6],[7,8,9]])\n",
    "\n",
    "# Computing cummulative sum\n",
    "print(t)\n",
    "print(t.cumsum(-1))\n",
    "print(t.cumsum(-2))"
   ]
  },
  {
   "cell_type": "markdown",
   "metadata": {},
   "source": [
    "## Adding a dimension to a tensor\n",
    "\n",
    "![Tensor Concatnation](tensor-concatination.png)"
   ]
  },
  {
   "cell_type": "code",
   "execution_count": 32,
   "metadata": {},
   "outputs": [
    {
     "name": "stdout",
     "output_type": "stream",
     "text": [
      "Before (3, 4)\n",
      "After (1, 3, 4)\n",
      "Before: torch.Size([3, 4])\n",
      "After: torch.Size([1, 3, 4])\n",
      "torch.Size([2, 3, 4])\n"
     ]
    }
   ],
   "source": [
    "# First, the numpy way\n",
    "x = np.random.rand(3,4)\n",
    "print('Before', x.shape)\n",
    "x = x[None,:,:]\n",
    "print('After', x.shape)\n",
    "\n",
    "# Next, the torch way\n",
    "t = torch.rand(3,4)\n",
    "print('Before:', t.shape)\n",
    "t1 = t.unsqueeze(0)\n",
    "print('After:', t1.shape)\n",
    "\n",
    "# Say we get another 3x4 matrix (say a grayscale image or a frame)\n",
    "t2 = torch.rand(3,4)\n",
    "\n",
    "# Say we want to combine t1 and t2, such that the first dimension\n",
    "# iterates over the frames\n",
    "\n",
    "t.unsqueeze_(0) # inplace unsqueeze, we just added a dimension\n",
    "t2.unsqueeze_(0)\n",
    "\n",
    "t_and_t2 = torch.cat((t1,t2),0) # The first dimension is the \n",
    "print(t_and_t2.shape)"
   ]
  },
  {
   "cell_type": "markdown",
   "metadata": {},
   "source": [
    "## Testing for equality"
   ]
  },
  {
   "cell_type": "code",
   "execution_count": 55,
   "metadata": {},
   "outputs": [
    {
     "name": "stdout",
     "output_type": "stream",
     "text": [
      "tensor([[1, 0, 1],\n",
      "        [0, 1, 1],\n",
      "        [1, 1, 1]], dtype=torch.uint8)\n"
     ]
    }
   ],
   "source": [
    "t1 = torch.tensor([[1,2,3],[4,5,6],[7,8,9]])\n",
    "t2 = torch.tensor([[1,20,3],[40,5,6],[7,8,9]])\n",
    "\n",
    "# Element wise equality test\n",
    "print(torch.eq(t1,t2))"
   ]
  },
  {
   "cell_type": "code",
   "execution_count": 81,
   "metadata": {},
   "outputs": [
    {
     "name": "stdout",
     "output_type": "stream",
     "text": [
      "t:\n",
      " tensor([[0.2439, 0.3184, 0.6584],\n",
      "        [0.1138, 0.8716, 0.5599]])\n",
      "log t:\n",
      " tensor([[-1.4112, -1.1445, -0.4179],\n",
      "        [-2.1732, -0.1374, -0.5801]])\n",
      "neg t:\n",
      " tensor([[-0.2439, -0.3184, -0.6584],\n",
      "        [-0.1138, -0.8716, -0.5599]])\n",
      "power t:\n",
      " tensor([[0.0595, 0.1014, 0.4335],\n",
      "        [0.0130, 0.7597, 0.3134]])\n",
      "reciprocal t:\n",
      " tensor([[4.1008, 3.1410, 1.5188],\n",
      "        [8.7862, 1.1473, 1.7862]])\n",
      "round t:\n",
      " tensor([[0., 0., 1.],\n",
      "        [0., 1., 1.]])\n",
      "sigmoid t:\n",
      " tensor([[0.5607, 0.5789, 0.6589],\n",
      "        [0.5284, 0.7051, 0.6364]])\n",
      "sign t:\n",
      " tensor([[1., 1., 1.],\n",
      "        [1., 1., 1.]])\n",
      "sqrt t:\n",
      " tensor([[0.4938, 0.5642, 0.8114],\n",
      "        [0.3374, 0.9336, 0.7482]])\n",
      "argmax t:\n",
      " tensor([0, 1, 0])\n",
      "mean t:\n",
      " tensor([0.4069, 0.5151])\n"
     ]
    }
   ],
   "source": [
    "t = torch.rand(2,3)\n",
    "print('t:\\n', t)\n",
    "\n",
    "# Log\n",
    "print('log t:\\n', torch.log(t))\n",
    "\n",
    "# Negative\n",
    "print('neg t:\\n', torch.neg(t))\n",
    "\n",
    "# Power\n",
    "print('power t:\\n', torch.pow(t, 2))\n",
    "\n",
    "# Reciprocal\n",
    "print('reciprocal t:\\n', torch.reciprocal(t))\n",
    "\n",
    "# Round\n",
    "print('round t:\\n', torch.round(t))\n",
    "\n",
    "# Sigmoid\n",
    "print('sigmoid t:\\n', torch.sigmoid(t))\n",
    "\n",
    "# Sign\n",
    "print('sign t:\\n', torch.sign(t))\n",
    "\n",
    "# sqrt\n",
    "print('sqrt t:\\n', torch.sqrt(t))\n",
    "\n",
    "# argmax, along 0-th dimension (that moves along the rows)\n",
    "print('argmax t:\\n', torch.argmax(t, 0))\n",
    "\n",
    "# mean, along 1-th dimension (that moves along the columns)\n",
    "print('mean t:\\n', torch.mean(t, 1))"
   ]
  },
  {
   "cell_type": "markdown",
   "metadata": {},
   "source": [
    "## Vector and Matrix products"
   ]
  },
  {
   "cell_type": "code",
   "execution_count": 33,
   "metadata": {},
   "outputs": [
    {
     "name": "stdout",
     "output_type": "stream",
     "text": [
      "tensor([ 0,  0, -1])\n"
     ]
    }
   ],
   "source": [
    "t1 = torch.tensor([0,1,0])\n",
    "t2 = torch.tensor([1,0,0])\n",
    "print(t1.cross(t2))"
   ]
  },
  {
   "cell_type": "code",
   "execution_count": 34,
   "metadata": {},
   "outputs": [
    {
     "name": "stdout",
     "output_type": "stream",
     "text": [
      "Row 0 tensor(2.9802e-08)\n",
      "Row 1 tensor(0.)\n",
      "Row 2 tensor(2.9802e-08)\n",
      "Row 3 tensor(0.)\n"
     ]
    }
   ],
   "source": [
    "t1 = torch.randn(4,3)\n",
    "t2 = torch.randn(4,3)\n",
    "\n",
    "# Row-wise vector cross product \n",
    "t1_cross_t2 = t1.cross(t2)\n",
    "\n",
    "# Confirm that the dot products of the result with \n",
    "# the corresponding vectors in t1 and t2 is 0\n",
    "for i in range(t1.size(0)):\n",
    "    print('Row %d' % i, t1[i,:].dot(t1_cross_t2[i,:]))"
   ]
  },
  {
   "cell_type": "code",
   "execution_count": 35,
   "metadata": {},
   "outputs": [
    {
     "name": "stdout",
     "output_type": "stream",
     "text": [
      "m1:\n",
      " tensor([[-0.7391, -0.2288, -1.1205],\n",
      "        [-0.1904, -1.6060, -2.5085],\n",
      "        [-0.5796,  0.5351,  2.2772],\n",
      "        [-1.4934,  0.6584,  1.4462]])\n",
      "m2:\n",
      " tensor([[ 1.2603,  0.3118],\n",
      "        [-0.9736, -1.0500],\n",
      "        [ 1.2579,  0.4808]])\n",
      "Matrix multiplication:\n",
      " tensor([[-2.1181, -0.5289],\n",
      "        [-1.8316,  0.4209],\n",
      "        [ 1.6130,  0.3523],\n",
      "        [-0.7040, -0.4617]])\n"
     ]
    }
   ],
   "source": [
    "m1 = torch.randn(4,3)\n",
    "m2 = torch.randn(3, 2)\n",
    "\n",
    "print('m1:\\n', m1)\n",
    "print('m2:\\n', m2)\n",
    "# Matrix multiplication\n",
    "print('Matrix multiplication:\\n', m1.mm(m2))"
   ]
  },
  {
   "cell_type": "code",
   "execution_count": 36,
   "metadata": {},
   "outputs": [
    {
     "name": "stdout",
     "output_type": "stream",
     "text": [
      "m1:\n",
      " tensor([[1., 2.],\n",
      "        [3., 4.]])\n",
      "m2:\n",
      " tensor([[ 2.,  4.],\n",
      "        [-1.,  6.]])\n",
      "Element-wise multiplication:\n",
      " tensor([[ 2.,  8.],\n",
      "        [-3., 24.]])\n"
     ]
    }
   ],
   "source": [
    "m1 = torch.tensor([[1,2],[3,4]], dtype=torch.float32)\n",
    "m2 = torch.tensor([[2,4],[-1,6]], dtype=torch.float32)\n",
    "print('m1:\\n', m1)\n",
    "print('m2:\\n', m2)\n",
    "# Element-wise multiplication\n",
    "print('Element-wise multiplication:\\n', m1.mul(m2))"
   ]
  },
  {
   "cell_type": "markdown",
   "metadata": {},
   "source": [
    "## CUDA GPU Support"
   ]
  },
  {
   "cell_type": "code",
   "execution_count": 37,
   "metadata": {},
   "outputs": [
    {
     "name": "stdout",
     "output_type": "stream",
     "text": [
      "CUDA available (T/F): False\n",
      "Number of CUDA devices available: 0\n"
     ]
    }
   ],
   "source": [
    "# Checking if CUDA GPU is available\n",
    "result = torch.cuda.is_available()\n",
    "print('CUDA available (T/F):', result)\n",
    "\n",
    "# How many CUDA devices are available?\n",
    "result = torch.cuda.device_count()\n",
    "print('Number of CUDA devices available:', result)"
   ]
  },
  {
   "cell_type": "code",
   "execution_count": null,
   "metadata": {},
   "outputs": [],
   "source": []
  }
 ],
 "metadata": {
  "kernelspec": {
   "display_name": "Python 3",
   "language": "python",
   "name": "python3"
  },
  "language_info": {
   "codemirror_mode": {
    "name": "ipython",
    "version": 3
   },
   "file_extension": ".py",
   "mimetype": "text/x-python",
   "name": "python",
   "nbconvert_exporter": "python",
   "pygments_lexer": "ipython3",
   "version": "3.6.5"
  }
 },
 "nbformat": 4,
 "nbformat_minor": 2
}
