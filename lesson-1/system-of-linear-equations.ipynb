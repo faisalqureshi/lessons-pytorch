{
 "cells": [
  {
   "cell_type": "markdown",
   "metadata": {},
   "source": [
    "# Solving a system of linear equations using Pytorch"
   ]
  },
  {
   "cell_type": "markdown",
   "metadata": {},
   "source": [
    "Solving $A \\mathbf{x} = \\mathbf{b}$"
   ]
  },
  {
   "cell_type": "code",
   "execution_count": 13,
   "metadata": {},
   "outputs": [
    {
     "name": "stdout",
     "output_type": "stream",
     "text": [
      "A:\n",
      " tensor([[-1.1258, -1.1524, -0.2506, -0.4339],\n",
      "        [ 0.8487,  0.6920, -0.3160, -2.1152],\n",
      "        [ 0.3223, -1.2633,  0.3500,  0.3081],\n",
      "        [ 0.1198,  1.2377,  1.1168, -0.2473]])\n",
      "b:\n",
      " tensor([[-0.7193],\n",
      "        [-0.4033],\n",
      "        [-0.5966],\n",
      "        [ 0.1820]])\n",
      "x:\n",
      " tensor([[ 0.0363],\n",
      "        [ 0.4987],\n",
      "        [-0.3020],\n",
      "        [ 0.4135]])\n"
     ]
    }
   ],
   "source": [
    "import torch\n",
    "\n",
    "torch.manual_seed(0)\n",
    "\n",
    "A = torch.randn(4,4)\n",
    "b = torch.randn(4,1)\n",
    "\n",
    "print('A:\\n', A)\n",
    "print('b:\\n', b)\n",
    "\n",
    "x = torch.mm(torch.inverse(A), b)\n",
    "print('x:\\n', x)"
   ]
  },
  {
   "cell_type": "markdown",
   "metadata": {},
   "source": [
    "Check to see if $\\mathbf{x}$ satisfies the equation"
   ]
  },
  {
   "cell_type": "code",
   "execution_count": 14,
   "metadata": {},
   "outputs": [
    {
     "name": "stdout",
     "output_type": "stream",
     "text": [
      "tensor([[-0.7193],\n",
      "        [-0.4033],\n",
      "        [-0.5966],\n",
      "        [ 0.1820]])\n"
     ]
    }
   ],
   "source": [
    "print(torch.mm(A,x))"
   ]
  },
  {
   "cell_type": "code",
   "execution_count": null,
   "metadata": {},
   "outputs": [],
   "source": []
  }
 ],
 "metadata": {
  "kernelspec": {
   "display_name": "Python 3",
   "language": "python",
   "name": "python3"
  },
  "language_info": {
   "codemirror_mode": {
    "name": "ipython",
    "version": 3
   },
   "file_extension": ".py",
   "mimetype": "text/x-python",
   "name": "python",
   "nbconvert_exporter": "python",
   "pygments_lexer": "ipython3",
   "version": "3.6.5"
  }
 },
 "nbformat": 4,
 "nbformat_minor": 2
}
