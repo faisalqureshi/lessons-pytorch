{
 "cells": [
  {
   "cell_type": "markdown",
   "metadata": {},
   "source": [
    "# Timing in Python\n",
    "\n",
    "**[Faisal Z. Qureshi](http://vclab.science.uoit.ca)**  "
   ]
  },
  {
   "cell_type": "code",
   "execution_count": 41,
   "metadata": {},
   "outputs": [],
   "source": [
    "import time\n",
    "import torch\n",
    "\n",
    "a = torch.ones((300000))"
   ]
  },
  {
   "cell_type": "code",
   "execution_count": 42,
   "metadata": {},
   "outputs": [
    {
     "name": "stdout",
     "output_type": "stream",
     "text": [
      "300000.0\n",
      "It took 0.0 seconds\n",
      "a is sitting on cpu\n"
     ]
    }
   ],
   "source": [
    "start_time = time.time()\n",
    "print(a.sum().item())\n",
    "end_time = time.time()\n",
    "\n",
    "print('It took {} seconds'.format(end_time - start_time))\n",
    "print('a is sitting on', a.device)"
   ]
  },
  {
   "cell_type": "code",
   "execution_count": 43,
   "metadata": {},
   "outputs": [
    {
     "name": "stdout",
     "output_type": "stream",
     "text": [
      "It took 0.6841332912445068 seconds\n"
     ]
    }
   ],
   "source": [
    "start_time = time.time()\n",
    "sum = 0\n",
    "for i in range(len(a)):\n",
    "    sum = sum + a[i]\n",
    "end_time = time.time()\n",
    "\n",
    "print('It took {} seconds'.format(end_time - start_time))"
   ]
  },
  {
   "cell_type": "code",
   "execution_count": 44,
   "metadata": {},
   "outputs": [
    {
     "name": "stdout",
     "output_type": "stream",
     "text": [
      "tensor(3.0000e+05, device='cuda:0')\n",
      "It took 0.0009984970092773438 seconds\n",
      "a is sitting on cuda:0\n"
     ]
    }
   ],
   "source": [
    "is_cuda = torch.cuda.is_available()\n",
    "\n",
    "if not is_cuda:\n",
    "    print('Nothing to do here')\n",
    "else:\n",
    "    a_ = a.cuda()\n",
    "    start_time = time.time()\n",
    "    print(a_.sum())\n",
    "    end_time = time.time()\n",
    "    print('It took {} seconds'.format(end_time - start_time))\n",
    "    print('a is sitting on', a_.device)"
   ]
  },
  {
   "cell_type": "code",
   "execution_count": null,
   "metadata": {},
   "outputs": [],
   "source": []
  }
 ],
 "metadata": {
  "kernelspec": {
   "display_name": "Python 3",
   "language": "python",
   "name": "python3"
  },
  "language_info": {
   "codemirror_mode": {
    "name": "ipython",
    "version": 3
   },
   "file_extension": ".py",
   "mimetype": "text/x-python",
   "name": "python",
   "nbconvert_exporter": "python",
   "pygments_lexer": "ipython3",
   "version": "3.6.5"
  }
 },
 "nbformat": 4,
 "nbformat_minor": 2
}
