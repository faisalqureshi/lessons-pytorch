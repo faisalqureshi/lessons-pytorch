{
 "cells": [
  {
   "cell_type": "markdown",
   "metadata": {},
   "source": [
    "# Linear regression\n",
    "\n",
    "**[Faisal Z. Qureshi](http://vclab.science.uoit.ca)**  \n",
    "\n",
    "Fitting $y = mx + c$ to data"
   ]
  },
  {
   "cell_type": "code",
   "execution_count": 1,
   "metadata": {},
   "outputs": [
    {
     "data": {
      "image/png": "[encoded data removed]",
      "text/plain": [
       "<Figure size 432x288 with 1 Axes>"
      ]
     },
     "metadata": {},
     "output_type": "display_data"
    }
   ],
   "source": [
    "import numpy as np\n",
    "import matplotlib.pyplot as plt\n",
    "%matplotlib inline\n",
    "\n",
    "def data_generate(N=10, mu=0, sigma=.4, xstart=0, xend=1):\n",
    "    x = np.linspace(xstart,xend,N)\n",
    "    m, c = .5, 2    \n",
    "    y = m * x + c + np.random.normal(mu, sigma, N)\n",
    "    return x,y\n",
    "\n",
    "def data_plot(x, y):\n",
    "    plt.figure(1)\n",
    "    plt.title('y vs. x')\n",
    "    plt.xlabel('x')\n",
    "    plt.ylabel('y')\n",
    "    plt.axis([0,20,0,12])\n",
    "    plt.plot(x,y,'.')\n",
    "    plt.show()\n",
    "    \n",
    "np.random.seed(0)\n",
    "x, y = data_generate(xstart=5, xend=15)\n",
    "data_plot(x, y)"
   ]
  },
  {
   "cell_type": "code",
   "execution_count": 2,
   "metadata": {},
   "outputs": [],
   "source": [
    "import torch\n",
    "import torch.nn as nn\n",
    "import torch.nn.functional as F\n",
    "from torch.autograd import Variable"
   ]
  },
  {
   "cell_type": "code",
   "execution_count": 3,
   "metadata": {},
   "outputs": [],
   "source": [
    "class LinearRegressionModel(nn.Module):\n",
    "    \n",
    "    def __init__(self, input_dim, output_dim):\n",
    "        super(LinearRegressionModel, self).__init__()\n",
    "        self.linear = nn.Linear(input_dim, output_dim)\n",
    "        \n",
    "    def forward(self, x):\n",
    "        out = self.linear(x)\n",
    "        return out"
   ]
  },
  {
   "cell_type": "code",
   "execution_count": 8,
   "metadata": {},
   "outputs": [],
   "source": [
    "input_dim = 1\n",
    "output_dim = 1 \n",
    "\n",
    "model = LinearRegressionModel(input_dim, output_dim)\n",
    "criterion = nn.MSELoss(reduction='elementwise_mean')\n",
    "l_rate = 0.1\n",
    "optimiser = torch.optim.Adam(model.parameters(), lr=l_rate)"
   ]
  },
  {
   "cell_type": "code",
   "execution_count": 9,
   "metadata": {},
   "outputs": [
    {
     "name": "stdout",
     "output_type": "stream",
     "text": [
      "epoch 10, loss 4.825193405151367\n",
      "epoch 20, loss 1.7441149950027466\n",
      "epoch 30, loss 0.8075619339942932\n",
      "epoch 40, loss 0.5681356191635132\n",
      "epoch 50, loss 0.4789844751358032\n",
      "epoch 60, loss 0.41825976967811584\n",
      "epoch 70, loss 0.36589691042900085\n",
      "epoch 80, loss 0.3191046714782715\n",
      "epoch 90, loss 0.2782481908798218\n",
      "epoch 100, loss 0.2438182532787323\n"
     ]
    }
   ],
   "source": [
    "print_values = False\n",
    "epochs = 100\n",
    "for epoch in range(epochs):\n",
    "    epoch += 1\n",
    "    \n",
    "    inputs = Variable(torch.FloatTensor(x).unsqueeze_(1))\n",
    "    labels = Variable(torch.FloatTensor(y).unsqueeze_(1))\n",
    "        \n",
    "    optimiser.zero_grad()\n",
    "    \n",
    "    outputs = model(inputs)\n",
    "    \n",
    "    if epoch % 10 == 0 and print_values == True:\n",
    "        print('Inputs')\n",
    "        print(inputs)\n",
    "        print('Labels')\n",
    "        print(labels)\n",
    "        print('Outputs')\n",
    "        print(outputs)\n",
    "    \n",
    "    loss = criterion(outputs, labels)\n",
    "    loss.backward()\n",
    "    optimiser.step()\n",
    "    \n",
    "    if epoch % 10 == 0:\n",
    "        print('epoch {}, loss {}'.format(epoch,loss.data.item()))"
   ]
  },
  {
   "cell_type": "code",
   "execution_count": 10,
   "metadata": {},
   "outputs": [
    {
     "name": "stdout",
     "output_type": "stream",
     "text": [
      "0.5462091\n",
      "1.7255366\n"
     ]
    }
   ],
   "source": [
    "slope = model.linear.weight.data.numpy()[0][0]\n",
    "bias = model.linear.bias.data.numpy()[0]\n",
    "\n",
    "print(slope)\n",
    "print(bias)"
   ]
  },
  {
   "cell_type": "code",
   "execution_count": 11,
   "metadata": {},
   "outputs": [
    {
     "data": {
      "image/png": "[encoded data removed]",
      "text/plain": [
       "<Figure size 432x288 with 1 Axes>"
      ]
     },
     "metadata": {},
     "output_type": "display_data"
    }
   ],
   "source": [
    "def make_line(model=model, xstart=0, xend=1):\n",
    "    x = np.linspace(xstart, xend, 10)\n",
    "    x = torch.Tensor(x).unsqueeze_(1)\n",
    "    #print(x)\n",
    "    model.eval()\n",
    "    y = model(Variable(x))\n",
    "    return x.squeeze_().numpy(), y.squeeze_().data.numpy()\n",
    "\n",
    "x_line, y_line = make_line(model, 0, 20)\n",
    "\n",
    "#print(x_line) # Torch tensor\n",
    "#print(y_line) # Variable (torch tensor)\n",
    "\n",
    "#print (x_line.squeeze_().numpy())\n",
    "#print (y_line.squeeze_().data.numpy())\n",
    "\n",
    "\n",
    "def make_line(slope, bias, xstart=0, xend=1):\n",
    "    x = np.linspace(xstart,xend,10)\n",
    "    m, c = slope, bias    \n",
    "    y = m * x + c\n",
    "    return x, y\n",
    "\n",
    "def data_plot_w_line(x, y, x_line, y_line):\n",
    "    plt.figure(1)\n",
    "    plt.title('y vs. x')\n",
    "    plt.xlabel('x')\n",
    "    plt.ylabel('y')\n",
    "    plt.axis([0,20,0,12])\n",
    "    plt.plot(x,y,'.')\n",
    "    plt.plot(x_line, y_line, 'r-')\n",
    "    plt.show()\n",
    "    \n",
    "#x_line, y_line = make_line(xstart=0, xend=20, slope=slope, bias=bias)\n",
    "data_plot_w_line(x, y, x_line, y_line)\n"
   ]
  },
  {
   "cell_type": "code",
   "execution_count": null,
   "metadata": {},
   "outputs": [],
   "source": []
  },
  {
   "cell_type": "code",
   "execution_count": null,
   "metadata": {},
   "outputs": [],
   "source": []
  }
 ],
 "metadata": {
  "kernelspec": {
   "display_name": "Python 3",
   "language": "python",
   "name": "python3"
  },
  "language_info": {
   "codemirror_mode": {
    "name": "ipython",
    "version": 3
   },
   "file_extension": ".py",
   "mimetype": "text/x-python",
   "name": "python",
   "nbconvert_exporter": "python",
   "pygments_lexer": "ipython3",
   "version": "3.6.5"
  }
 },
 "nbformat": 4,
 "nbformat_minor": 2
}
