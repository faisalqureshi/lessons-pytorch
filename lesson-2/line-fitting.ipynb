{
 "cells": [
  {
   "cell_type": "markdown",
   "metadata": {},
   "source": [
    "# Linear regression\n",
    "\n",
    "Fitting $y = mx + c$ to data"
   ]
  },
  {
   "cell_type": "code",
   "execution_count": 2,
   "metadata": {},
   "outputs": [
    {
     "data": {
      "image/png": "[encoded data removed]",
      "text/plain": [
       "<Figure size 432x288 with 1 Axes>"
      ]
     },
     "metadata": {},
     "output_type": "display_data"
    }
   ],
   "source": [
    "import numpy as np\n",
    "import matplotlib.pyplot as plt\n",
    "\n",
    "def data_generate(N=10, mu=0, sigma=.4, xstart=0, xend=1):\n",
    "    x = np.linspace(xstart,xend,N)\n",
    "    m, c = .5, 2    \n",
    "    y = m * x + c + np.random.normal(mu, sigma, N)\n",
    "    return x,y\n",
    "\n",
    "def data_plot(x, y):\n",
    "    plt.figure(1)\n",
    "    plt.title('y vs. x')\n",
    "    plt.xlabel('x')\n",
    "    plt.ylabel('y')\n",
    "    plt.axis([0,20,0,12])\n",
    "    plt.plot(x,y,'.')\n",
    "    plt.show()\n",
    "    \n",
    "np.random.seed(0)\n",
    "x, y = data_generate(xstart=5, xend=15)\n",
    "data_plot(x, y)"
   ]
  },
  {
   "cell_type": "code",
   "execution_count": 4,
   "metadata": {},
   "outputs": [],
   "source": [
    "import torch\n",
    "import torch.nn as nn\n",
    "import torch.nn.functional as F\n",
    "from torch.autograd import Variable"
   ]
  },
  {
   "cell_type": "code",
   "execution_count": 5,
   "metadata": {},
   "outputs": [],
   "source": [
    "class LinearRegressionModel(nn.Module):\n",
    "    \n",
    "    def __init__(self, input_dim, output_dim):\n",
    "        super(LinearRegressionModel, self).__init__()\n",
    "        self.linear = nn.Linear(input_dim, output_dim)\n",
    "        \n",
    "    def forward(self, x):\n",
    "        out = self.linear(x)\n",
    "        return out"
   ]
  },
  {
   "cell_type": "code",
   "execution_count": 7,
   "metadata": {},
   "outputs": [
    {
     "name": "stderr",
     "output_type": "stream",
     "text": [
      "/anaconda3/lib/python3.6/site-packages/torch/nn/functional.py:52: UserWarning: size_average and reduce args will be deprecated, please use reduction='elementwise_mean' instead.\n",
      "  warnings.warn(warning.format(ret))\n"
     ]
    }
   ],
   "source": [
    "input_dim = 1\n",
    "output_dim = 1 \n",
    "\n",
    "model = LinearRegressionModel(input_dim, output_dim)\n",
    "criterion = nn.MSELoss(reduce=True)\n",
    "l_rate = 0.1\n",
    "optimiser = torch.optim.Adam(model.parameters(), lr=l_rate)"
   ]
  },
  {
   "cell_type": "code",
   "execution_count": 8,
   "metadata": {},
   "outputs": [
    {
     "name": "stdout",
     "output_type": "stream",
     "text": [
      "epoch 10, loss 5.000023365020752\n",
      "epoch 20, loss 1.2156250476837158\n",
      "epoch 30, loss 0.4087226092815399\n",
      "epoch 40, loss 0.3243520259857178\n",
      "epoch 50, loss 0.30018189549446106\n",
      "epoch 60, loss 0.27237221598625183\n",
      "epoch 70, loss 0.24656346440315247\n",
      "epoch 80, loss 0.22415100038051605\n",
      "epoch 90, loss 0.2044604867696762\n",
      "epoch 100, loss 0.1870829313993454\n"
     ]
    },
    {
     "name": "stderr",
     "output_type": "stream",
     "text": [
      "/anaconda3/lib/python3.6/site-packages/ipykernel_launcher.py:26: UserWarning: invalid index of a 0-dim tensor. This will be an error in PyTorch 0.5. Use tensor.item() to convert a 0-dim tensor to a Python number\n"
     ]
    }
   ],
   "source": [
    "print_values = False\n",
    "epochs = 100\n",
    "for epoch in range(epochs):\n",
    "    epoch += 1\n",
    "    \n",
    "    inputs = Variable(torch.FloatTensor(x).unsqueeze_(1))\n",
    "    labels = Variable(torch.FloatTensor(y).unsqueeze_(1))\n",
    "        \n",
    "    optimiser.zero_grad()\n",
    "    \n",
    "    outputs = model(inputs)\n",
    "    \n",
    "    if epoch % 10 == 0 and print_values == True:\n",
    "        print('Inputs')\n",
    "        print(inputs)\n",
    "        print('Labels')\n",
    "        print(labels)\n",
    "        print('Outputs')\n",
    "        print(outputs)\n",
    "    \n",
    "    loss = criterion(outputs, labels)\n",
    "    loss.backward()\n",
    "    optimiser.step()\n",
    "    \n",
    "    if epoch % 10 == 0:\n",
    "        print('epoch {}, loss {}'.format(epoch,loss.data[0]))"
   ]
  },
  {
   "cell_type": "code",
   "execution_count": 77,
   "metadata": {},
   "outputs": [
    {
     "name": "stdout",
     "output_type": "stream",
     "text": [
      "0.58692884\n",
      "1.2550099\n"
     ]
    }
   ],
   "source": [
    "slope = model.linear.weight.data.numpy()[0][0]\n",
    "bias = model.linear.bias.data.numpy()[0]\n",
    "\n",
    "print(slope)\n",
    "print(bias)"
   ]
  },
  {
   "cell_type": "code",
   "execution_count": 96,
   "metadata": {},
   "outputs": [
    {
     "data": {
      "image/png": "[encoded data removed]",
      "text/plain": [
       "<Figure size 432x288 with 1 Axes>"
      ]
     },
     "metadata": {},
     "output_type": "display_data"
    }
   ],
   "source": [
    "def make_line(model=model, xstart=0, xend=1):\n",
    "    x = np.linspace(xstart, xend, 10)\n",
    "    x = torch.Tensor(x).unsqueeze_(1)\n",
    "    #print(x)\n",
    "    model.eval()\n",
    "    y = model(Variable(x))\n",
    "    return x.squeeze_().numpy(), y.squeeze_().data.numpy()\n",
    "\n",
    "x_line, y_line = make_line(model, 0, 20)\n",
    "\n",
    "#print(x_line) # Torch tensor\n",
    "#print(y_line) # Variable (torch tensor)\n",
    "\n",
    "#print (x_line.squeeze_().numpy())\n",
    "#print (y_line.squeeze_().data.numpy())\n",
    "\n",
    "\n",
    "def make_line(slope, bias, xstart=0, xend=1):\n",
    "    x = np.linspace(xstart,xend,10)\n",
    "    m, c = slope, bias    \n",
    "    y = m * x + c\n",
    "    return x, y\n",
    "\n",
    "def data_plot_w_line(x, y, x_line, y_line):\n",
    "    plt.figure(1)\n",
    "    plt.title('y vs. x')\n",
    "    plt.xlabel('x')\n",
    "    plt.ylabel('y')\n",
    "    plt.axis([0,20,0,12])\n",
    "    plt.plot(x,y,'.')\n",
    "    plt.plot(x_line, y_line, 'r-')\n",
    "    plt.show()\n",
    "    \n",
    "#x_line, y_line = make_line(xstart=0, xend=20, slope=slope, bias=bias)\n",
    "data_plot_w_line(x, y, x_line, y_line)\n"
   ]
  },
  {
   "cell_type": "code",
   "execution_count": null,
   "metadata": {},
   "outputs": [],
   "source": []
  },
  {
   "cell_type": "code",
   "execution_count": null,
   "metadata": {},
   "outputs": [],
   "source": []
  }
 ],
 "metadata": {
  "kernelspec": {
   "display_name": "Python 3",
   "language": "python",
   "name": "python3"
  },
  "language_info": {
   "codemirror_mode": {
    "name": "ipython",
    "version": 3
   },
   "file_extension": ".py",
   "mimetype": "text/x-python",
   "name": "python",
   "nbconvert_exporter": "python",
   "pygments_lexer": "ipython3",
   "version": "3.6.5"
  }
 },
 "nbformat": 4,
 "nbformat_minor": 2
}
