{
 "cells": [
  {
   "cell_type": "markdown",
   "metadata": {},
   "source": [
    "# Linear Regression using PyTorch\n",
    "\n",
    "**[Faisal Z. Qureshi](http://vclab.science.uoit.ca)**  \n",
    "\n",
    "- Dataset\n",
    "- Built-in linear layer\n",
    "- Built-in cost"
   ]
  },
  {
   "cell_type": "code",
   "execution_count": 1,
   "metadata": {},
   "outputs": [],
   "source": [
    "import matplotlib.pyplot as plt\n",
    "%matplotlib inline\n",
    "import numpy as np"
   ]
  },
  {
   "cell_type": "code",
   "execution_count": 2,
   "metadata": {},
   "outputs": [
    {
     "data": {
      "image/png": "[encoded data removed]",
      "text/plain": [
       "<Figure size 432x288 with 1 Axes>"
      ]
     },
     "metadata": {},
     "output_type": "display_data"
    }
   ],
   "source": [
    "N = 10 # number of data points\n",
    "m = .9\n",
    "c = 1\n",
    "x = np.linspace(0,2*np.pi,N)\n",
    "y = m*x + c + np.random.normal(0,.3,x.shape)\n",
    "plt.figure()\n",
    "plt.plot(x,y,'o')\n",
    "plt.xlabel('x')\n",
    "plt.ylabel('y')\n",
    "plt.title('2D data (#data = %d)' % N)\n",
    "plt.show()"
   ]
  },
  {
   "cell_type": "code",
   "execution_count": 3,
   "metadata": {},
   "outputs": [],
   "source": [
    "import torch"
   ]
  },
  {
   "cell_type": "markdown",
   "metadata": {},
   "source": [
    "## Dataset"
   ]
  },
  {
   "cell_type": "code",
   "execution_count": 4,
   "metadata": {},
   "outputs": [],
   "source": [
    "from torch.utils.data import Dataset\n",
    "class MyDataset(Dataset):\n",
    "    def __init__(self, x, y):\n",
    "        self.x = x\n",
    "        self.y = y\n",
    "        \n",
    "    def __len__(self):\n",
    "        return len(self.x)\n",
    "    \n",
    "    def __getitem__(self, idx):\n",
    "        sample = {\n",
    "            'feature': torch.tensor([self.x[idx]]), \n",
    "            'label': torch.tensor([self.y[idx]])}\n",
    "        return sample"
   ]
  },
  {
   "cell_type": "code",
   "execution_count": 5,
   "metadata": {},
   "outputs": [
    {
     "name": "stdout",
     "output_type": "stream",
     "text": [
      "0 tensor([0.]) tensor([1.2025])\n",
      "1 tensor([0.6981]) tensor([1.5332])\n",
      "2 tensor([1.3963]) tensor([2.3872])\n",
      "3 tensor([2.0944]) tensor([3.0870])\n",
      "4 tensor([2.7925]) tensor([3.5528])\n",
      "5 tensor([3.4907]) tensor([3.8255])\n",
      "6 tensor([4.1888]) tensor([4.0942])\n",
      "7 tensor([4.8869]) tensor([5.6697])\n",
      "8 tensor([5.5851]) tensor([6.2013])\n",
      "9 tensor([6.2832]) tensor([6.6555])\n"
     ]
    }
   ],
   "source": [
    "dataset = MyDataset(x, y)\n",
    "for i in range(len(dataset)):\n",
    "    sample = dataset[i]\n",
    "    print(i, sample['feature'], sample['label'])"
   ]
  },
  {
   "cell_type": "markdown",
   "metadata": {},
   "source": [
    "## Dataloader"
   ]
  },
  {
   "cell_type": "code",
   "execution_count": 6,
   "metadata": {},
   "outputs": [],
   "source": [
    "from torch.utils.data import DataLoader\n",
    "\n",
    "dataset = MyDataset(x, y)\n",
    "batch_size = 4\n",
    "shuffle = True\n",
    "num_workers = 4\n",
    "dataloader = DataLoader(dataset, batch_size=batch_size, shuffle=shuffle, num_workers=num_workers)"
   ]
  },
  {
   "cell_type": "code",
   "execution_count": 7,
   "metadata": {},
   "outputs": [
    {
     "name": "stdout",
     "output_type": "stream",
     "text": [
      "\n",
      "batch# = 0\n",
      "samples: \n",
      "{'feature': tensor([[3.4907],\n",
      "        [4.8869],\n",
      "        [6.2832],\n",
      "        [1.3963]]),\n",
      " 'label': tensor([[3.8255],\n",
      "        [5.6697],\n",
      "        [6.6555],\n",
      "        [2.3872]])}\n",
      "\n",
      "batch# = 1\n",
      "samples: \n",
      "{'feature': tensor([[4.1888],\n",
      "        [2.0944],\n",
      "        [0.0000],\n",
      "        [2.7925]]),\n",
      " 'label': tensor([[4.0942],\n",
      "        [3.0870],\n",
      "        [1.2025],\n",
      "        [3.5528]])}\n",
      "\n",
      "batch# = 2\n",
      "samples: \n",
      "{'feature': tensor([[0.6981],\n",
      "        [5.5851]]),\n",
      " 'label': tensor([[1.5332],\n",
      "        [6.2013]])}\n"
     ]
    }
   ],
   "source": [
    "import pprint as pp\n",
    "for i_batch, samples in enumerate(dataloader):\n",
    "    print('\\nbatch# = %s' % i_batch)\n",
    "    print('samples: ')\n",
    "    pp.pprint(samples)"
   ]
  },
  {
   "cell_type": "markdown",
   "metadata": {},
   "source": [
    "## Model"
   ]
  },
  {
   "cell_type": "code",
   "execution_count": 8,
   "metadata": {},
   "outputs": [],
   "source": [
    "import torch.nn as nn\n",
    "import torch.nn.functional as F\n",
    "class MyModel(nn.Module):\n",
    "    def __init__(self, input_dim, output_dim):\n",
    "        super(MyModel, self).__init__()\n",
    "        self.linear = nn.Linear(input_dim, output_dim)\n",
    "        \n",
    "    def forward(self, x):\n",
    "        out = self.linear(x)\n",
    "        return out"
   ]
  },
  {
   "cell_type": "markdown",
   "metadata": {},
   "source": [
    "### Setting a model for our problem"
   ]
  },
  {
   "cell_type": "code",
   "execution_count": 9,
   "metadata": {},
   "outputs": [],
   "source": [
    "input_dim = 1\n",
    "output_dim = 1\n",
    "\n",
    "model = MyModel(input_dim, output_dim)"
   ]
  },
  {
   "cell_type": "markdown",
   "metadata": {},
   "source": [
    "## Cost function\n",
    "\n",
    "Often called loss or error"
   ]
  },
  {
   "cell_type": "code",
   "execution_count": 10,
   "metadata": {},
   "outputs": [],
   "source": [
    "cost = nn.MSELoss()"
   ]
  },
  {
   "cell_type": "markdown",
   "metadata": {},
   "source": [
    "## Minimizing the cost function\n",
    "\n",
    "In other words training (or learning from data)"
   ]
  },
  {
   "cell_type": "code",
   "execution_count": 11,
   "metadata": {},
   "outputs": [
    {
     "name": "stdout",
     "output_type": "stream",
     "text": [
      "Epoch = 0\n",
      "\tBatch = 0, Error = 12.885244369506836\n",
      "\tBatch = 1, Error = 5.077721118927002\n",
      "\tBatch = 2, Error = 15.32325553894043\n",
      "Epoch = 1\n",
      "\tBatch = 0, Error = 1.0023999214172363\n",
      "\tBatch = 1, Error = 0.726385235786438\n",
      "\tBatch = 2, Error = 0.043172456324100494\n",
      "Epoch = 2\n",
      "\tBatch = 0, Error = 0.4491015076637268\n",
      "\tBatch = 1, Error = 0.44997507333755493\n",
      "\tBatch = 2, Error = 0.11377965658903122\n",
      "Epoch = 3\n",
      "\tBatch = 0, Error = 0.3028799295425415\n",
      "\tBatch = 1, Error = 0.18087443709373474\n",
      "\tBatch = 2, Error = 0.5257319808006287\n",
      "Epoch = 4\n",
      "\tBatch = 0, Error = 0.2809544503688812\n",
      "\tBatch = 1, Error = 0.2644607424736023\n",
      "\tBatch = 2, Error = 0.23514369130134583\n",
      "Epoch = 5\n",
      "\tBatch = 0, Error = 0.3298056125640869\n",
      "\tBatch = 1, Error = 0.1382095366716385\n",
      "\tBatch = 2, Error = 0.3576323688030243\n",
      "Epoch = 6\n",
      "\tBatch = 0, Error = 0.21077977120876312\n",
      "\tBatch = 1, Error = 0.3373437821865082\n",
      "\tBatch = 2, Error = 0.13173562288284302\n",
      "Epoch = 7\n",
      "\tBatch = 0, Error = 0.24302546679973602\n",
      "\tBatch = 1, Error = 0.33212924003601074\n",
      "\tBatch = 2, Error = 0.038316890597343445\n",
      "Epoch = 8\n",
      "\tBatch = 0, Error = 0.09025029838085175\n",
      "\tBatch = 1, Error = 0.39602822065353394\n",
      "\tBatch = 2, Error = 0.21656692028045654\n",
      "Epoch = 9\n",
      "\tBatch = 0, Error = 0.11238755285739899\n",
      "\tBatch = 1, Error = 0.2867094874382019\n",
      "\tBatch = 2, Error = 0.35569703578948975\n"
     ]
    }
   ],
   "source": [
    "num_epochs = 10  # How many times the entire training data is seen?\n",
    "l_rate = 0.01\n",
    "optimiser = torch.optim.SGD(model.parameters(), lr = l_rate) \n",
    "\n",
    "dataset = MyDataset(x, y)\n",
    "batch_size = 4\n",
    "shuffle = True\n",
    "num_workers = 4\n",
    "training_sample_generator = DataLoader(dataset, batch_size=batch_size, shuffle=shuffle, num_workers=num_workers)\n",
    "\n",
    "for epoch in range(num_epochs):\n",
    "    print('Epoch = %s' % epoch)\n",
    "    for batch_i, samples in enumerate(training_sample_generator):\n",
    "        predictions = model(samples['feature'])\n",
    "        error = cost(predictions, samples['label'])\n",
    "        print('\\tBatch = %s, Error = %s' % (batch_i, error.item()))\n",
    "        \n",
    "        # Before the backward pass, use the optimizer object to zero all of the\n",
    "        # gradients for the variables it will update (which are the learnable\n",
    "        # weights of the model). This is because by default, gradients are\n",
    "        # accumulated in buffers( i.e, not overwritten) whenever .backward()\n",
    "        # is called. Checkout docs of torch.autograd.backward for more details.\n",
    "        optimiser.zero_grad()\n",
    "        \n",
    "        # Backward pass: compute gradient of the loss with respect to model\n",
    "        # parameters\n",
    "        error.backward()\n",
    "        \n",
    "        # Calling the step function on an Optimizer makes an update to its\n",
    "        # parameters\n",
    "        optimiser.step()"
   ]
  },
  {
   "cell_type": "markdown",
   "metadata": {},
   "source": [
    "## Lets see how well the model has learnt the data"
   ]
  },
  {
   "cell_type": "code",
   "execution_count": 12,
   "metadata": {},
   "outputs": [
    {
     "name": "stdout",
     "output_type": "stream",
     "text": [
      "y_for_plotting shape: torch.Size([1000, 1])\n"
     ]
    }
   ],
   "source": [
    "x_for_plotting = np.linspace(0, 2*np.pi, 1000)\n",
    "design_matrix = torch.tensor(x_for_plotting.T, dtype=torch.float32)\n",
    "y_for_plotting = model.forward(design_matrix.unsqueeze(1))\n",
    "print('y_for_plotting shape:', y_for_plotting.shape)"
   ]
  },
  {
   "cell_type": "code",
   "execution_count": 13,
   "metadata": {},
   "outputs": [
    {
     "data": {
      "image/png": "[encoded data removed]",
      "text/plain": [
       "<Figure size 432x288 with 1 Axes>"
      ]
     },
     "metadata": {},
     "output_type": "display_data"
    }
   ],
   "source": [
    "plt.figure()\n",
    "plt.plot(x,y,'o')\n",
    "plt.plot(x_for_plotting, y_for_plotting.data.numpy(), 'r-')\n",
    "plt.xlabel('x')\n",
    "plt.ylabel('y')\n",
    "plt.title('2D data (#data = %d)' % N)\n",
    "plt.show()"
   ]
  },
  {
   "cell_type": "code",
   "execution_count": null,
   "metadata": {},
   "outputs": [],
   "source": []
  }
 ],
 "metadata": {
  "kernelspec": {
   "display_name": "Python 3",
   "language": "python",
   "name": "python3"
  },
  "language_info": {
   "codemirror_mode": {
    "name": "ipython",
    "version": 3
   },
   "file_extension": ".py",
   "mimetype": "text/x-python",
   "name": "python",
   "nbconvert_exporter": "python",
   "pygments_lexer": "ipython3",
   "version": "3.6.5"
  }
 },
 "nbformat": 4,
 "nbformat_minor": 2
}
