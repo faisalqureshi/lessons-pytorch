{
 "cells": [
  {
   "cell_type": "markdown",
   "metadata": {},
   "source": [
    "# Binary classification with one hidden layer\n",
    "\n",
    "**[Faisal Z. Qureshi](http://vclab.science.uoit.ca)**  "
   ]
  },
  {
   "cell_type": "code",
   "execution_count": 1,
   "metadata": {},
   "outputs": [],
   "source": [
    "import numpy as np\n",
    "import matplotlib.pyplot as plt\n",
    "import matplotlib.cm as cm\n",
    "%matplotlib inline\n",
    "\n",
    "import pprint as pp\n",
    "\n",
    "import torch\n",
    "import torch.nn as nn\n",
    "from torch.utils.data import DataLoader"
   ]
  },
  {
   "cell_type": "markdown",
   "metadata": {},
   "source": [
    "## Test data"
   ]
  },
  {
   "cell_type": "code",
   "execution_count": 2,
   "metadata": {},
   "outputs": [
    {
     "data": {
      "text/plain": [
       "(-3, 3)"
      ]
     },
     "execution_count": 2,
     "metadata": {},
     "output_type": "execute_result"
    },
    {
     "data": {
      "image/png": "[encoded data removed]",
      "text/plain": [
       "<Figure size 504x504 with 1 Axes>"
      ]
     },
     "metadata": {},
     "output_type": "display_data"
    }
   ],
   "source": [
    "np.random.seed(0)\n",
    "\n",
    "from sklearn import datasets\n",
    "n_samples = 120\n",
    "x, y = datasets.make_moons(n_samples=n_samples, random_state=0, noise=0.1)\n",
    "x = x - np.mean(x,0) # 0 centered\n",
    "\n",
    "plt.figure(figsize=(7,7))\n",
    "plt.scatter(x[:,0], x[:,1], c=y, cmap=cm.bwr)\n",
    "plt.xlabel('$x_1$')\n",
    "plt.ylabel('$x_2$')\n",
    "plt.xlim(-3,3)\n",
    "plt.ylim(-3,3)"
   ]
  },
  {
   "cell_type": "markdown",
   "metadata": {},
   "source": [
    "## Torch dataset\n",
    "\n",
    "We will create a dataset class that will be used by dataloader to present batches during training."
   ]
  },
  {
   "cell_type": "code",
   "execution_count": 3,
   "metadata": {},
   "outputs": [],
   "source": [
    "from torch.utils.data import Dataset\n",
    "class MyDataset(Dataset):\n",
    "    def __init__(self, x, y):\n",
    "        self.x = x\n",
    "        self.y = y\n",
    "        \n",
    "    def __len__(self):\n",
    "        return len(self.x)\n",
    "    \n",
    "    def __getitem__(self, idx):\n",
    "        sample = {\n",
    "            'feature': torch.tensor(self.x[idx], dtype=torch.float32), \n",
    "            'label': torch.tensor(np.array([self.y[idx]]), dtype=torch.float32)}\n",
    "        return sample"
   ]
  },
  {
   "cell_type": "markdown",
   "metadata": {},
   "source": [
    "Testing our dataset.  "
   ]
  },
  {
   "cell_type": "code",
   "execution_count": 4,
   "metadata": {},
   "outputs": [
    {
     "name": "stdout",
     "output_type": "stream",
     "text": [
      "length:  120\n",
      "{'feature': tensor([-1.3389,  0.2798]), 'label': tensor([0.])}\n",
      "{'feature': tensor([ 0.7349, -0.7039]), 'label': tensor([1.])}\n",
      "{'feature': tensor([ 0.9834, -0.7139]), 'label': tensor([1.])}\n",
      "{'feature': tensor([0.4425, 0.0330]), 'label': tensor([0.])}\n",
      "{'feature': tensor([ 0.8904, -0.5459]), 'label': tensor([1.])}\n"
     ]
    }
   ],
   "source": [
    "import pprint as pp\n",
    "\n",
    "dataset = MyDataset(x, y)\n",
    "print('length: ', len(dataset))\n",
    "for i in range(5):\n",
    "    pp.pprint(dataset[i])"
   ]
  },
  {
   "cell_type": "markdown",
   "metadata": {},
   "source": [
    "Using dataloader to construct batches for training purposes"
   ]
  },
  {
   "cell_type": "code",
   "execution_count": 5,
   "metadata": {},
   "outputs": [
    {
     "name": "stdout",
     "output_type": "stream",
     "text": [
      "\n",
      "batch# = 0\n",
      "samples: \n",
      "{'feature': tensor([[ 0.3456, -0.6479],\n",
      "        [-1.3969,  0.1039],\n",
      "        [ 0.4425,  0.0330],\n",
      "        [ 0.0796,  0.6330]]),\n",
      " 'label': tensor([[1.],\n",
      "        [0.],\n",
      "        [0.],\n",
      "        [0.]])}\n"
     ]
    }
   ],
   "source": [
    "dataset = MyDataset(x, y)\n",
    "batch_size = 4\n",
    "shuffle = True\n",
    "num_workers = 4\n",
    "dataloader = DataLoader(dataset, batch_size=batch_size, shuffle=shuffle, num_workers=num_workers)\n",
    "for i_batch, samples in enumerate(dataloader):\n",
    "    print('\\nbatch# = %s' % i_batch)\n",
    "    print('samples: ')\n",
    "    pp.pprint(samples)\n",
    "    break # Otherwise it prints too much stuff"
   ]
  },
  {
   "cell_type": "markdown",
   "metadata": {},
   "source": [
    "## Logistic regression model"
   ]
  },
  {
   "cell_type": "code",
   "execution_count": 6,
   "metadata": {},
   "outputs": [],
   "source": [
    "class LogisticRegression(nn.Module):\n",
    "    def __init__(self, input_size):\n",
    "        super(LogisticRegression, self).__init__()\n",
    "        \n",
    "        num_classes = 2\n",
    "\n",
    "        # input layer\n",
    "        self.linear1 = nn.Linear(input_size, 7)\n",
    "        self.tan1 = nn.Tanh()\n",
    "        \n",
    "        # hidden layer\n",
    "        self.linear2 = nn.Linear(7, 7)\n",
    "        self.tan2 = nn.Tanh()\n",
    "        \n",
    "        # output layer -- Sigmoid since we are interested in classification\n",
    "        self.linear3 = nn.Linear(7, 1)\n",
    "        self.sigmoid = nn.Sigmoid()\n",
    "    \n",
    "    def forward(self, x):\n",
    "        \n",
    "        # input layer\n",
    "        out = self.tan1(self.linear1(x))\n",
    "        \n",
    "        # hidden layer\n",
    "        out = self.tan2(self.linear2(out))\n",
    "\n",
    "        # output layer -- Sigmoid since we are interested in classification\n",
    "        out = self.sigmoid(self.linear3(out))\n",
    "        \n",
    "        return out"
   ]
  },
  {
   "cell_type": "markdown",
   "metadata": {},
   "source": [
    "## Loss"
   ]
  },
  {
   "cell_type": "code",
   "execution_count": 7,
   "metadata": {},
   "outputs": [],
   "source": [
    "import torch.nn as nn\n",
    "class MyLoss(nn.Module):\n",
    "    def __init__(self):\n",
    "        super(MyLoss, self).__init__()\n",
    "        \n",
    "    def forward(self, predictions, targets):\n",
    "        n = len(predictions)\n",
    "        return torch.sum((torch.abs(torch.sub(targets,predictions))))"
   ]
  },
  {
   "cell_type": "markdown",
   "metadata": {},
   "source": [
    "## Accuracy\n",
    "\n",
    "Counting how many predictions were correct."
   ]
  },
  {
   "cell_type": "code",
   "execution_count": 8,
   "metadata": {},
   "outputs": [],
   "source": [
    "def accuracy(predictions, labels):\n",
    "    l = labels.type(torch.ByteTensor)\n",
    "    p = (predictions > 0.5)\n",
    "    s = torch.sum(p.eq(l))\n",
    "    return s.item()"
   ]
  },
  {
   "cell_type": "markdown",
   "metadata": {},
   "source": [
    "## Training"
   ]
  },
  {
   "cell_type": "code",
   "execution_count": 11,
   "metadata": {},
   "outputs": [
    {
     "name": "stdout",
     "output_type": "stream",
     "text": [
      "epoch 0: 3.765061616897583\n",
      "accuracy 60\n",
      "epoch 50: 1.8585937023162842\n",
      "accuracy 108\n",
      "epoch 100: 0.35147538781166077\n",
      "accuracy 109\n",
      "epoch 150: 0.21965743601322174\n",
      "accuracy 109\n",
      "epoch 200: 0.1253092736005783\n",
      "accuracy 109\n",
      "epoch 250: 1.9960203170776367\n",
      "accuracy 109\n",
      "epoch 300: 1.0107163190841675\n",
      "accuracy 109\n",
      "epoch 350: 1.9978941679000854\n",
      "accuracy 109\n",
      "epoch 400: 0.0008965092711150646\n",
      "accuracy 109\n",
      "epoch 450: 0.0009148591780103743\n",
      "accuracy 110\n",
      "epoch 500: 0.006889374461025\n",
      "accuracy 110\n",
      "epoch 550: 0.8189349174499512\n",
      "accuracy 114\n",
      "epoch 600: 0.009289291687309742\n",
      "accuracy 117\n",
      "epoch 650: 0.05355709046125412\n",
      "accuracy 117\n"
     ]
    }
   ],
   "source": [
    "import torch.nn.functional as F\n",
    "\n",
    "model = LogisticRegression(2)\n",
    "criterion = MyLoss()\n",
    "optimizer = torch.optim.SGD(model.parameters(), lr=0.01)  \n",
    "\n",
    "dataset = MyDataset(x, y)\n",
    "batch_size = 16\n",
    "shuffle = True\n",
    "num_workers = 4\n",
    "training_sample_generator = DataLoader(dataset, batch_size=batch_size, shuffle=shuffle, num_workers=num_workers)\n",
    "\n",
    "num_epochs = 1000\n",
    "for epoch in range(num_epochs):\n",
    "    n = 0\n",
    "    for batch_i, samples in enumerate(training_sample_generator):\n",
    "        predictions = model(samples['feature'])\n",
    "        error = criterion(predictions, samples['label'])\n",
    "        n += accuracy(predictions, samples['label'])\n",
    "        optimizer.zero_grad()\n",
    "        error.backward()        \n",
    "        optimizer.step()\n",
    "    if epoch % 50 == 0:\n",
    "        print('epoch %d:' % epoch, error.item())\n",
    "        print('accuracy', n)\n",
    "    if n > 119:\n",
    "        break"
   ]
  },
  {
   "cell_type": "markdown",
   "metadata": {},
   "source": [
    "## Visualizing results"
   ]
  },
  {
   "cell_type": "code",
   "execution_count": 12,
   "metadata": {},
   "outputs": [
    {
     "name": "stdout",
     "output_type": "stream",
     "text": [
      "torch.Size([1, 2500])\n",
      "torch.Size([1, 2500])\n",
      "torch.Size([2500, 2])\n",
      "torch.Size([2500, 1])\n",
      "(50, 50)\n",
      "[0 1 1 0 1 0 0 0 0 1 0 0 0 1 1 1 0 0 1 1 1 0 0 0 1 0 0 1 0 1 0 1 1 1 0 1 0\n",
      " 1 1 1 1 1 1 1 0 0 1 0 1 1 0 1 1 0 1 0 0 0 0 0 0 0 0 0 0 1 1 0 0 0 0 0 0 0\n",
      " 1 0 1 1 0 1 0 1 0 0 0 1 1 1 1 1 1 0 1 1 1 0 0 1 1 0 1 0 1 0 0 1 1 1 1 0 0\n",
      " 1 0 1 1 1 1 1 0 0]\n"
     ]
    },
    {
     "data": {
      "text/plain": [
       "Text(0.5,1,'Classification results')"
      ]
     },
     "execution_count": 12,
     "metadata": {},
     "output_type": "execute_result"
    },
    {
     "data": {
      "image/png": "[encoded data removed]",
      "text/plain": [
       "<Figure size 504x504 with 2 Axes>"
      ]
     },
     "metadata": {},
     "output_type": "display_data"
    }
   ],
   "source": [
    "xcoord = np.linspace(-3, 3)\n",
    "ycoord = np.linspace(-3, 3)\n",
    "xx, yy = np.meshgrid(xcoord, ycoord)\n",
    "xxt = torch.tensor(xx, dtype=torch.float32).view(-1).unsqueeze(0)\n",
    "yyt = torch.tensor(yy, dtype=torch.float32).view(-1).unsqueeze(0)\n",
    "print(xxt.shape)\n",
    "print(yyt.shape)\n",
    "v = torch.t(torch.cat([xxt,yyt]))\n",
    "print(v.shape)\n",
    "m = model(v)\n",
    "print(m.shape)\n",
    "mm = m.detach().numpy().reshape(50,50)\n",
    "print(mm.shape)\n",
    "\n",
    "x_try = torch.tensor(x, dtype=torch.float32)\n",
    "y_try = model(x_try)\n",
    "yy_try = (y_try.squeeze() > 0.5).numpy()\n",
    "print(yy_try)\n",
    "\n",
    "plt.figure(figsize=(7,7))\n",
    "extent = -3, 3, -3, 3\n",
    "plt.imshow(mm, cmap=cm.BuGn, interpolation='bilinear', extent=extent, alpha=.5, origin='lower')\n",
    "plt.scatter(x[:,0], x[:,1], c=yy_try, cmap=cm.viridis)\n",
    "plt.colorbar()\n",
    "plt.xlabel('$x_1$')\n",
    "plt.ylabel('$x_2$')\n",
    "plt.xlim(-3,3)\n",
    "plt.ylim(-3,3)\n",
    "plt.title('Classification results')"
   ]
  },
  {
   "cell_type": "code",
   "execution_count": null,
   "metadata": {},
   "outputs": [],
   "source": []
  }
 ],
 "metadata": {
  "kernelspec": {
   "display_name": "Python 3",
   "language": "python",
   "name": "python3"
  },
  "language_info": {
   "codemirror_mode": {
    "name": "ipython",
    "version": 3
   },
   "file_extension": ".py",
   "mimetype": "text/x-python",
   "name": "python",
   "nbconvert_exporter": "python",
   "pygments_lexer": "ipython3",
   "version": "3.6.5"
  }
 },
 "nbformat": 4,
 "nbformat_minor": 2
}
