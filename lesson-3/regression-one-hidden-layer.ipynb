{
 "cells": [
  {
   "cell_type": "markdown",
   "metadata": {},
   "source": [
    "# Regression with one hidden layer\n",
    "\n",
    "**[Faisal Z. Qureshi](http://vclab.science.uoit.ca)**  "
   ]
  },
  {
   "cell_type": "code",
   "execution_count": 1,
   "metadata": {},
   "outputs": [],
   "source": [
    "import numpy as np\n",
    "import matplotlib.pyplot as plt\n",
    "import matplotlib.cm as cm\n",
    "%matplotlib inline\n",
    "\n",
    "import pprint as pp\n",
    "\n",
    "import torch\n",
    "import torch.nn as nn\n",
    "from torch.utils.data import DataLoader"
   ]
  },
  {
   "cell_type": "markdown",
   "metadata": {},
   "source": [
    "## Test data"
   ]
  },
  {
   "cell_type": "code",
   "execution_count": 2,
   "metadata": {},
   "outputs": [
    {
     "data": {
      "text/plain": [
       "(-5, 5)"
      ]
     },
     "execution_count": 2,
     "metadata": {},
     "output_type": "execute_result"
    },
    {
     "data": {
      "image/png": "[encoded data removed]",
      "text/plain": [
       "<Figure size 288x288 with 1 Axes>"
      ]
     },
     "metadata": {},
     "output_type": "display_data"
    }
   ],
   "source": [
    "np.random.seed(0)\n",
    "\n",
    "n_samples = 10\n",
    "x = np.arange(n_samples)\n",
    "y = np.sin(2 * np.pi * x / n_samples) * 4\n",
    "\n",
    "plt.figure(figsize=(4,4))\n",
    "plt.plot(x, y, 'o')\n",
    "plt.xlabel('x')\n",
    "plt.ylabel('y')\n",
    "plt.xlim(-1,10)\n",
    "plt.ylim(-5,5)"
   ]
  },
  {
   "cell_type": "markdown",
   "metadata": {},
   "source": [
    "## Torch dataset\n",
    "\n",
    "We will create a dataset class that will be used by dataloader to present batches during training."
   ]
  },
  {
   "cell_type": "code",
   "execution_count": 3,
   "metadata": {},
   "outputs": [],
   "source": [
    "from torch.utils.data import Dataset\n",
    "class MyDataset(Dataset):\n",
    "    def __init__(self, x, y):\n",
    "        self.x = x\n",
    "        self.y = y\n",
    "        \n",
    "    def __len__(self):\n",
    "        return len(self.x)\n",
    "    \n",
    "    def __getitem__(self, idx):\n",
    "        sample = {\n",
    "            'feature': torch.tensor([self.x[idx]], dtype=torch.float32), \n",
    "            'label': torch.tensor(np.array([self.y[idx]]), dtype=torch.float32)}\n",
    "        return sample"
   ]
  },
  {
   "cell_type": "markdown",
   "metadata": {},
   "source": [
    "Testing our dataset.  "
   ]
  },
  {
   "cell_type": "code",
   "execution_count": 4,
   "metadata": {},
   "outputs": [
    {
     "name": "stdout",
     "output_type": "stream",
     "text": [
      "length:  10\n",
      "{'feature': tensor([0.]), 'label': tensor([0.])}\n",
      "{'feature': tensor([1.]), 'label': tensor([2.3511])}\n",
      "{'feature': tensor([2.]), 'label': tensor([3.8042])}\n",
      "{'feature': tensor([3.]), 'label': tensor([3.8042])}\n",
      "{'feature': tensor([4.]), 'label': tensor([2.3511])}\n"
     ]
    }
   ],
   "source": [
    "import pprint as pp\n",
    "\n",
    "dataset = MyDataset(x, y)\n",
    "print('length: ', len(dataset))\n",
    "for i in range(5):\n",
    "    pp.pprint(dataset[i])"
   ]
  },
  {
   "cell_type": "markdown",
   "metadata": {},
   "source": [
    "Using dataloader to construct batches for training purposes"
   ]
  },
  {
   "cell_type": "code",
   "execution_count": 5,
   "metadata": {},
   "outputs": [
    {
     "name": "stdout",
     "output_type": "stream",
     "text": [
      "\n",
      "batch# = 0\n",
      "samples: \n",
      "{'feature': tensor([[8.],\n",
      "        [9.],\n",
      "        [6.],\n",
      "        [2.]]),\n",
      " 'label': tensor([[-3.8042],\n",
      "        [-2.3511],\n",
      "        [-2.3511],\n",
      "        [ 3.8042]])}\n"
     ]
    }
   ],
   "source": [
    "dataset = MyDataset(x, y)\n",
    "batch_size = 4\n",
    "shuffle = True\n",
    "num_workers = 4\n",
    "dataloader = DataLoader(dataset, batch_size=batch_size, shuffle=shuffle, num_workers=num_workers)\n",
    "for i_batch, samples in enumerate(dataloader):\n",
    "    print('\\nbatch# = %s' % i_batch)\n",
    "    print('samples: ')\n",
    "    pp.pprint(samples)\n",
    "    break # Otherwise it prints too much stuff"
   ]
  },
  {
   "cell_type": "markdown",
   "metadata": {},
   "source": [
    "## Logistic regression model"
   ]
  },
  {
   "cell_type": "code",
   "execution_count": 6,
   "metadata": {},
   "outputs": [],
   "source": [
    "class Regression(nn.Module):\n",
    "    def __init__(self, input_size):\n",
    "        super(Regression, self).__init__()\n",
    "        \n",
    "        # input layer\n",
    "        self.linear1 = nn.Linear(input_size, 10)\n",
    "        self.tan1 = nn.Tanh()\n",
    "        \n",
    "        # hidden layer\n",
    "        self.linear2 = nn.Linear(10, 10)\n",
    "        self.tan2 = nn.Tanh()\n",
    "        \n",
    "        # output layer -- Sigmoid since we are interested in classification\n",
    "        self.linear3 = nn.Linear(10, 1)\n",
    "    \n",
    "    def forward(self, x):\n",
    "       # input layer\n",
    "        out = self.tan1(self.linear1(x))\n",
    "        \n",
    "        # hidden layer\n",
    "        out = self.tan2(self.linear2(out))\n",
    "\n",
    "        # output layer -- No Sigmoid since we are interested in regression\n",
    "        out = self.linear3(out)\n",
    "        \n",
    "        return out"
   ]
  },
  {
   "cell_type": "markdown",
   "metadata": {},
   "source": [
    "## Loss"
   ]
  },
  {
   "cell_type": "code",
   "execution_count": 7,
   "metadata": {},
   "outputs": [],
   "source": [
    "import torch.nn as nn\n",
    "class MyLoss(nn.Module):\n",
    "    def __init__(self):\n",
    "        super(MyLoss, self).__init__()\n",
    "        \n",
    "    def forward(self, predictions, targets):\n",
    "#        print(predictions.shape)\n",
    "#        print(targets.shape)\n",
    "        d = torch.sub(predictions, targets)\n",
    "        d2 = torch.pow(d, 2)\n",
    "        d2sum = torch.sum(d2)\n",
    "        \n",
    "        return d2sum"
   ]
  },
  {
   "cell_type": "markdown",
   "metadata": {},
   "source": [
    "## Accuracy\n",
    "\n",
    "Counting how many predictions were correct."
   ]
  },
  {
   "cell_type": "code",
   "execution_count": 8,
   "metadata": {},
   "outputs": [],
   "source": [
    "def accuracy(predictions, targets):\n",
    "    d = torch.sub(predictions, targets)\n",
    "    d2 = torch.pow(d, 2)\n",
    "    d2sum = torch.sum(d2)\n",
    "    return d2sum.item()"
   ]
  },
  {
   "cell_type": "markdown",
   "metadata": {},
   "source": [
    "## Training"
   ]
  },
  {
   "cell_type": "code",
   "execution_count": 9,
   "metadata": {},
   "outputs": [
    {
     "name": "stdout",
     "output_type": "stream",
     "text": [
      "epoch 0: 82.06343078613281\n",
      "accuracy 82.06343078613281\n",
      "epoch 200: 73.38374328613281\n",
      "accuracy 73.38374328613281\n",
      "epoch 400: 73.78237915039062\n",
      "accuracy 73.78237915039062\n",
      "epoch 600: 73.3929214477539\n",
      "accuracy 73.3929214477539\n",
      "epoch 800: 55.42934799194336\n",
      "accuracy 55.42934799194336\n",
      "epoch 1000: 9.528599739074707\n",
      "accuracy 9.528599739074707\n",
      "epoch 1200: 2.495415449142456\n",
      "accuracy 2.495415449142456\n",
      "epoch 1400: 2.1951284408569336\n",
      "accuracy 2.1951284408569336\n",
      "epoch 1600: 1.8466354608535767\n",
      "accuracy 1.8466354608535767\n",
      "epoch 1800: 1.8523292541503906\n",
      "accuracy 1.8523292541503906\n",
      "epoch 2000: 1.7544697523117065\n",
      "accuracy 1.7544697523117065\n",
      "epoch 2200: 1.671697974205017\n",
      "accuracy 1.671697974205017\n",
      "epoch 2400: 1.6358907222747803\n",
      "accuracy 1.6358907222747803\n",
      "epoch 2600: 1.6092758178710938\n",
      "accuracy 1.6092758178710938\n",
      "epoch 2800: 1.5901775360107422\n",
      "accuracy 1.5901775360107422\n",
      "epoch 3000: 1.5772935152053833\n",
      "accuracy 1.5772935152053833\n",
      "epoch 3200: 1.5678184032440186\n",
      "accuracy 1.5678184032440186\n",
      "epoch 3400: 1.4844878911972046\n",
      "accuracy 1.4844878911972046\n",
      "epoch 3600: 1.8455374240875244\n",
      "accuracy 1.8455374240875244\n",
      "epoch 3800: 1.5430850982666016\n",
      "accuracy 1.5430850982666016\n",
      "epoch 4000: 2.101895332336426\n",
      "accuracy 2.101895332336426\n",
      "epoch 4200: 2.0215840339660645\n",
      "accuracy 2.0215840339660645\n",
      "epoch 4400: 2.111423969268799\n",
      "accuracy 2.111423969268799\n",
      "epoch 4600: 2.008408784866333\n",
      "accuracy 2.008408784866333\n",
      "epoch 4800: 1.9178224802017212\n",
      "accuracy 1.9178224802017212\n"
     ]
    }
   ],
   "source": [
    "import torch.nn.functional as F\n",
    "\n",
    "model = Regression(1)\n",
    "criterion = MyLoss()\n",
    "optimizer = torch.optim.SGD(model.parameters(), lr=0.01)  \n",
    "\n",
    "dataset = MyDataset(x, y)\n",
    "batch_size = 16\n",
    "shuffle = True\n",
    "num_workers = 4\n",
    "training_sample_generator = DataLoader(dataset, batch_size=batch_size, shuffle=shuffle, num_workers=num_workers)\n",
    "\n",
    "num_epochs = 5000\n",
    "for epoch in range(num_epochs):\n",
    "    n = 0\n",
    "    for batch_i, samples in enumerate(training_sample_generator):\n",
    "        predictions = model(samples['feature'])\n",
    "        error = criterion(predictions, samples['label'])\n",
    "        n += accuracy(predictions, samples['label'])\n",
    "        optimizer.zero_grad()\n",
    "        error.backward()        \n",
    "        optimizer.step()\n",
    "    if epoch % 200 == 0:\n",
    "        print('epoch %d:' % epoch, error.item())\n",
    "        print('accuracy', n)"
   ]
  },
  {
   "cell_type": "markdown",
   "metadata": {},
   "source": [
    "## Visualizing results"
   ]
  },
  {
   "cell_type": "code",
   "execution_count": 11,
   "metadata": {},
   "outputs": [
    {
     "name": "stdout",
     "output_type": "stream",
     "text": [
      "tensor([[0.],\n",
      "        [1.],\n",
      "        [2.],\n",
      "        [3.],\n",
      "        [4.],\n",
      "        [5.],\n",
      "        [6.],\n",
      "        [7.],\n",
      "        [8.],\n",
      "        [9.]])\n",
      "[ 1.1032820e-04  2.3362899e+00  3.6030660e+00  2.9903252e+00\n",
      "  2.8890362e+00 -1.7187625e-01 -3.1443129e+00 -3.2978761e+00\n",
      " -3.2996073e+00 -3.2996252e+00]\n"
     ]
    },
    {
     "data": {
      "text/plain": [
       "<matplotlib.legend.Legend at 0x118cf8898>"
      ]
     },
     "execution_count": 11,
     "metadata": {},
     "output_type": "execute_result"
    },
    {
     "data": {
      "image/png": "[encoded data removed]",
      "text/plain": [
       "<Figure size 288x288 with 1 Axes>"
      ]
     },
     "metadata": {},
     "output_type": "display_data"
    }
   ],
   "source": [
    "x_try = torch.tensor(x, dtype=torch.float32)\n",
    "print(x_try.unsqueeze(1))\n",
    "\n",
    "y_try = model(x_try.unsqueeze(1))\n",
    "yy_try = y_try.detach().squeeze().numpy()\n",
    "print(yy_try)\n",
    "\n",
    "plt.figure(figsize=(4,4))\n",
    "plt.plot(x, y, 'o', label='Ground truth')\n",
    "plt.plot(x, yy_try, 'x', label='Prediction')\n",
    "plt.xlabel('x')\n",
    "plt.ylabel('y')\n",
    "plt.xlim(-1,10)\n",
    "plt.ylim(-5,5)\n",
    "plt.legend()"
   ]
  },
  {
   "cell_type": "code",
   "execution_count": null,
   "metadata": {},
   "outputs": [],
   "source": []
  }
 ],
 "metadata": {
  "kernelspec": {
   "display_name": "Python 3",
   "language": "python",
   "name": "python3"
  },
  "language_info": {
   "codemirror_mode": {
    "name": "ipython",
    "version": 3
   },
   "file_extension": ".py",
   "mimetype": "text/x-python",
   "name": "python",
   "nbconvert_exporter": "python",
   "pygments_lexer": "ipython3",
   "version": "3.6.5"
  }
 },
 "nbformat": 4,
 "nbformat_minor": 2
}
