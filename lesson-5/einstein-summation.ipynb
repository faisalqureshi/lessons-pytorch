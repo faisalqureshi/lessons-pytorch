{
 "cells": [
  {
   "cell_type": "markdown",
   "metadata": {},
   "source": [
    "# Einstein summation convention"
   ]
  },
  {
   "cell_type": "code",
   "execution_count": 2,
   "metadata": {},
   "outputs": [],
   "source": [
    "import numpy as np"
   ]
  },
  {
   "cell_type": "markdown",
   "metadata": {},
   "source": [
    "**Scalar (dot) product:**\n",
    "\n",
    "$$\n",
    "\\mathbf{a} . \\mathbf{b} = \\sum_{i=1}^{3} = a_1 b_1 + a_2 b_2 + a_2 b_2\n",
    "$$\n",
    "\n",
    "can be expressed using Einstein summation convention as $a_{\\theta} b_{\\theta}$"
   ]
  },
  {
   "cell_type": "code",
   "execution_count": 3,
   "metadata": {},
   "outputs": [
    {
     "name": "stdout",
     "output_type": "stream",
     "text": [
      "28\n",
      "28\n"
     ]
    }
   ],
   "source": [
    "a = np.array([1,2,4])\n",
    "b = np.array([0,4,5])\n",
    "print(np.dot(a,b))\n",
    "print(np.einsum('i,i',a,b))"
   ]
  },
  {
   "cell_type": "markdown",
   "metadata": {},
   "source": [
    "**Matrix multiplication:**\n",
    "\n",
    "$$\n",
    "c_{ij} = \\sum_k a_{ik} b_{kj}\n",
    "$$\n",
    "\n",
    "can be expressed in Einstein summation as $a_{i \\theta} b_{\\theta j}$"
   ]
  },
  {
   "cell_type": "code",
   "execution_count": 4,
   "metadata": {},
   "outputs": [
    {
     "name": "stdout",
     "output_type": "stream",
     "text": [
      "[[0 1 2]\n",
      " [3 4 5]\n",
      " [6 7 8]]\n",
      "[[ 5  6]\n",
      " [ 7  8]\n",
      " [ 9 10]]\n",
      "[[ 25  28]\n",
      " [ 88 100]\n",
      " [151 172]]\n",
      "[[ 25  28]\n",
      " [ 88 100]\n",
      " [151 172]]\n"
     ]
    }
   ],
   "source": [
    "a = np.array(range(9)).reshape(3,3)\n",
    "print(a)\n",
    "b = np.array(range(5,11)).reshape(3,2)\n",
    "print(b)\n",
    "print(np.dot(a,b))\n",
    "print(np.einsum('ik,kj',a,b))"
   ]
  },
  {
   "cell_type": "markdown",
   "metadata": {},
   "source": [
    "**Matrix-vector multiplication**\n",
    "$$\n",
    "c_i = \\sum_j a_{ij} b_j\n",
    "$$\n",
    "can be similarly expressed: $a_{i\\theta}b_\\theta$"
   ]
  },
  {
   "cell_type": "code",
   "execution_count": 5,
   "metadata": {},
   "outputs": [
    {
     "name": "stdout",
     "output_type": "stream",
     "text": [
      "[[0 1 2]\n",
      " [3 4 5]\n",
      " [6 7 8]]\n",
      "[0 1 2]\n",
      "[ 5 14 23]\n",
      "[ 5 14 23]\n"
     ]
    }
   ],
   "source": [
    "a = np.array(range(9)).reshape(3,3)\n",
    "print(a)\n",
    "b = np.array(range(3)).reshape(3,)\n",
    "print(b)\n",
    "print(np.dot(a,b))\n",
    "print(np.einsum('ij,j',a,b))"
   ]
  },
  {
   "cell_type": "markdown",
   "metadata": {},
   "source": [
    "**Vector-matrix multiplication**\n",
    "$$\n",
    "c_j = \\sum_i b_i a_{ij} \n",
    "$$\n",
    "can be expressed as: $b_\\theta a_{\\theta j}$"
   ]
  },
  {
   "cell_type": "code",
   "execution_count": 6,
   "metadata": {},
   "outputs": [
    {
     "name": "stdout",
     "output_type": "stream",
     "text": [
      "[[0 1 2]\n",
      " [3 4 5]\n",
      " [6 7 8]]\n",
      "[0 1 2]\n",
      "[15 18 21]\n",
      "[15 18 21]\n"
     ]
    }
   ],
   "source": [
    "a = np.array(range(9)).reshape(3,3)\n",
    "print(a)\n",
    "b = np.array(range(3)).reshape(3,)\n",
    "print(b)\n",
    "print(np.dot(b,a))\n",
    "print(np.einsum('i,ij',b,a))"
   ]
  },
  {
   "cell_type": "markdown",
   "metadata": {},
   "source": [
    "**Trace of matrix** can be computed using Einstein summation convention as follows:\n",
    "\n",
    "$$\n",
    "trace(a) = a_{\\theta \\theta}\n",
    "$$"
   ]
  },
  {
   "cell_type": "code",
   "execution_count": 7,
   "metadata": {},
   "outputs": [
    {
     "name": "stdout",
     "output_type": "stream",
     "text": [
      "12\n",
      "12\n"
     ]
    }
   ],
   "source": [
    "print(np.trace(a))\n",
    "print(np.einsum('ii',a))"
   ]
  },
  {
   "cell_type": "markdown",
   "metadata": {},
   "source": [
    "Consider the following term that appears in **Multivariate Gaussian**\n",
    "$$\n",
    "(\\mathbf{x} - \\mathbf{\\mu})^T \\Sigma^{-1} (\\mathbf{x} - \\mathbf{\\mu}).\n",
    "$$\n",
    "Here $\\mathbf{x}, \\mathbf{\\mu} \\in \\mathbb{R}^d$ and $\\Sigma \\in \\mathbb{R}^{d \\times d}$.\n",
    "\n",
    "Let $\\mathbf{v} = \\mathbf{x} - \\mathbf{\\mu}$ and $\\mathbf{M} = \\Sigma^{-1}$.\n",
    "\n",
    "We can express $\\mathbf{M} \\mathbf{v}$ using Einstein summation convention as follows: $m_{i \\theta} v_{\\theta}$.  We can then put it together with $\\mathbf{v}^T \\mathbf{M} \\mathbf{v}$ as follows $v_\\alpha m_{\\alpha \\theta} v_\\theta$."
   ]
  },
  {
   "cell_type": "code",
   "execution_count": 8,
   "metadata": {},
   "outputs": [
    {
     "name": "stdout",
     "output_type": "stream",
     "text": [
      "[[0 1 2]\n",
      " [3 4 5]\n",
      " [6 7 8]]\n",
      "[5 6 7]\n",
      "1440\n",
      "1440\n"
     ]
    }
   ],
   "source": [
    "M = np.array(range(9)).reshape(3,3)\n",
    "v = np.array(range(5,8))\n",
    "print(M)\n",
    "print(v)\n",
    "print(np.dot(v,np.dot(M,v)))\n",
    "print(np.einsum('i,ij,j',v.T,M,v))"
   ]
  },
  {
   "cell_type": "markdown",
   "metadata": {},
   "source": [
    "Now lets see if we can do it when vector $\\mathbf{v} \\in \\mathbb{R}^{3 \\times 1}$.  Again, we are computing $\\mathbf{v}^T \\mathbf{M} \\mathbf{v}$."
   ]
  },
  {
   "cell_type": "code",
   "execution_count": 25,
   "metadata": {},
   "outputs": [
    {
     "name": "stdout",
     "output_type": "stream",
     "text": [
      "[[0 1 2]\n",
      " [3 4 5]\n",
      " [6 7 8]]\n",
      "[[5]\n",
      " [6]\n",
      " [7]]\n",
      "[[1440]]\n",
      "[1440]\n"
     ]
    }
   ],
   "source": [
    "M = np.array(range(9)).reshape(3,3)\n",
    "v = np.array(range(5,8)).reshape(3,1)\n",
    "print(M)\n",
    "print(v)\n",
    "print(np.dot(v.T,np.dot(M,v)))\n",
    "print(np.einsum('...i,ij,j...',v.T,M,v))"
   ]
  },
  {
   "cell_type": "markdown",
   "metadata": {},
   "source": [
    "Now lets consider the case where $mn$ $\\mathbf{v} \\in \\mathbb{R}^{2}$ vectors are stored in a tensor $\\mathbf{t} \\in \\mathbb{R}^{m \\times n \\times 2}$.  This is often encountered when we attempt to evaluate a Gaussian over a 2D grid of points. "
   ]
  },
  {
   "cell_type": "code",
   "execution_count": 51,
   "metadata": {},
   "outputs": [
    {
     "name": "stdout",
     "output_type": "stream",
     "text": [
      "t (3, 5, 2)\n",
      "M (2, 2)\n",
      "[[ 9.  6.  3.  0. -3.]\n",
      " [ 0.  0.  0.  0.  0.]\n",
      " [-3.  0.  3.  6.  9.]]\n"
     ]
    }
   ],
   "source": [
    "x = np.linspace(-2,2,5)\n",
    "y = np.linspace(-1,1,3)\n",
    "xx, yy = np.meshgrid(x, y)\n",
    "t = np.empty(xx.shape + (2,))\n",
    "t[:,:,0] = xx\n",
    "t[:,:,1] = yy\n",
    "print('t', t.shape)\n",
    "\n",
    "M = np.array(range(4)).reshape([2,2])\n",
    "print('M',M.shape)\n",
    "\n",
    "result2 = np.einsum('...j,jk,...k->...',t, M, t)\n",
    "print(result2)"
   ]
  },
  {
   "cell_type": "code",
   "execution_count": null,
   "metadata": {},
   "outputs": [],
   "source": []
  }
 ],
 "metadata": {
  "kernelspec": {
   "display_name": "Python 3",
   "language": "python",
   "name": "python3"
  },
  "language_info": {
   "codemirror_mode": {
    "name": "ipython",
    "version": 3
   },
   "file_extension": ".py",
   "mimetype": "text/x-python",
   "name": "python",
   "nbconvert_exporter": "python",
   "pygments_lexer": "ipython3",
   "version": "3.6.5"
  }
 },
 "nbformat": 4,
 "nbformat_minor": 2
}
