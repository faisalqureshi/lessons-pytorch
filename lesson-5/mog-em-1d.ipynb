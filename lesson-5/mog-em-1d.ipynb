{
 "cells": [
  {
   "cell_type": "markdown",
   "metadata": {},
   "source": [
    "# Expectation Maximization (Mixture of Gaussians in 1D)"
   ]
  },
  {
   "cell_type": "code",
   "execution_count": 17,
   "metadata": {},
   "outputs": [],
   "source": [
    "import numpy as np\n",
    "import matplotlib.pyplot as plt\n",
    "%matplotlib inline"
   ]
  },
  {
   "cell_type": "code",
   "execution_count": 18,
   "metadata": {},
   "outputs": [],
   "source": [
    "def gaussian1d(x, mu, sig):\n",
    "    return np.exp(-np.power(x - mu, 2.) / (2 * np.power(sig, 2.)))"
   ]
  },
  {
   "cell_type": "code",
   "execution_count": 40,
   "metadata": {},
   "outputs": [],
   "source": [
    "def plot_mog(mog, x_values):\n",
    "    for mu, sig, num, c in mog:\n",
    "        plt.plot(x_values, gaussian1d(x_values, mu, sig), c)"
   ]
  },
  {
   "cell_type": "markdown",
   "metadata": {},
   "source": [
    "**Define a GMM**"
   ]
  },
  {
   "cell_type": "code",
   "execution_count": 39,
   "metadata": {},
   "outputs": [],
   "source": [
    "mixture_of_gaussians = [(-19, 1, 6, 'r'), (-1, 1, 0.3, 'g'), (15, 2, 0.5, 'b')]\n",
    "x_values = np.linspace(-30, 30, 120)"
   ]
  },
  {
   "cell_type": "markdown",
   "metadata": {},
   "source": [
    "**Generate some data from a mixture of Gaussians**"
   ]
  },
  {
   "cell_type": "code",
   "execution_count": 41,
   "metadata": {},
   "outputs": [],
   "source": [
    "K = len(mixture_of_gaussians)\n",
    "a = np.empty(K)\n",
    "a = [mixture_of_gaussians[k][2] for k in range(K)]\n",
    "    \n",
    "N = 5\n",
    "x = np.empty(N)\n",
    "for i in range(N):\n",
    "    k = np.random.choice(K, 1, a)[0]\n",
    "    mu, sig, _, _ = mixture_of_gaussians[k]\n",
    "    x[i] = np.random.normal(mu, sig, 1)"
   ]
  },
  {
   "cell_type": "code",
   "execution_count": 42,
   "metadata": {},
   "outputs": [
    {
     "data": {
      "text/plain": [
       "[<matplotlib.lines.Line2D at 0x11ddac588>]"
      ]
     },
     "execution_count": 42,
     "metadata": {},
     "output_type": "execute_result"
    }
   ],
   "source": [
    "plot_mog(mixture_of_gaussians, x_values)\n",
    "plt.plot(x,np.zeros(x.shape),'*')"
   ]
  },
  {
   "cell_type": "markdown",
   "metadata": {},
   "source": [
    "## Expectation Maximization"
   ]
  },
  {
   "cell_type": "markdown",
   "metadata": {},
   "source": [
    "Initialization"
   ]
  },
  {
   "cell_type": "code",
   "execution_count": 43,
   "metadata": {},
   "outputs": [],
   "source": [
    "def em_init(x, K):\n",
    "    c = ['r', 'g', 'b']\n",
    "    \n",
    "    N = len(x)\n",
    "    \n",
    "    mog_estimate = []\n",
    "    for k in range(K):\n",
    "        mog_estimate.append((np.random.uniform(-20,20),np.random.uniform(1,3),1./K,c[k%3]))\n",
    "        \n",
    "    w = np.empty([N, K])\n",
    "    return mog_estimate, w"
   ]
  },
  {
   "cell_type": "markdown",
   "metadata": {},
   "source": [
    "E Step"
   ]
  },
  {
   "cell_type": "code",
   "execution_count": 44,
   "metadata": {},
   "outputs": [],
   "source": [
    "def e_step(x, mog_estimate):\n",
    "    N = len(x)\n",
    "    K = len(mog_estimate)\n",
    "    \n",
    "    for i in range(N):\n",
    "        for k in range(K):\n",
    "            mu, sig, alpha, _ = mog_estimate[k]\n",
    "            w[i,k] = gaussian1d(x[i], mu, sig) * alpha\n",
    "        w[i,:] /= np.linalg.norm(w[i,:])\n",
    "    return w"
   ]
  },
  {
   "cell_type": "markdown",
   "metadata": {},
   "source": [
    "M Step"
   ]
  },
  {
   "cell_type": "code",
   "execution_count": 49,
   "metadata": {},
   "outputs": [],
   "source": [
    "def m_step(x, mog_estimate, w):\n",
    "    Nk = np.sum(w,0)\n",
    "    K = len(mog_estimate)\n",
    "    \n",
    "    print('Nk', Nk)\n",
    "    for k in range(K):\n",
    "        new_alpha = Nk[k]/N\n",
    "        print(k, new_alpha)\n",
    "        new_mean = np.dot(w[:,k], x)/Nk[k]\n",
    "        new_sigma = np.sqrt(np.dot(w[:,k], np.square(x - new_mean))/Nk[k])\n",
    "        mog_estimate[k] = (new_mean, new_sigma, new_alpha, mog_estimate[k][3])\n",
    "    return mog_estimate"
   ]
  },
  {
   "cell_type": "markdown",
   "metadata": {},
   "source": [
    "**EM in action**"
   ]
  },
  {
   "cell_type": "code",
   "execution_count": 50,
   "metadata": {},
   "outputs": [
    {
     "name": "stdout",
     "output_type": "stream",
     "text": [
      "Using matplotlib backend: MacOSX\n",
      "Nk [3.96498967 0.36141626 1.00196393]\n",
      "0 0.7929979334147494\n",
      "1 0.07228325292721406\n",
      "2 0.20039278509866118\n",
      "Nk [3.94610519 0.43008644 0.99997325]\n",
      "0 0.7892210379043453\n",
      "1 0.08601728854472249\n",
      "2 0.1999946495430435\n",
      "Nk [3.91005788 0.50932742 0.99993675]\n",
      "0 0.7820115767501516\n",
      "1 0.10186548386132144\n",
      "2 0.19998734951714653\n"
     ]
    },
    {
     "name": "stderr",
     "output_type": "stream",
     "text": [
      "/anaconda3/lib/python3.6/site-packages/ipykernel_launcher.py:2: RuntimeWarning: divide by zero encountered in true_divide\n",
      "  \n"
     ]
    },
    {
     "name": "stdout",
     "output_type": "stream",
     "text": [
      "Nk [nan nan nan]\n",
      "0 nan\n",
      "1 nan\n",
      "2 nan\n",
      "Nk [nan nan nan]\n",
      "0 nan\n",
      "1 nan\n",
      "2 nan\n",
      "Nk [nan nan nan]\n",
      "0 nan\n",
      "1 nan\n",
      "2 nan\n",
      "Nk [nan nan nan]\n",
      "0 nan\n",
      "1 nan\n",
      "2 nan\n",
      "Nk [nan nan nan]\n",
      "0 nan\n",
      "1 nan\n",
      "2 nan\n",
      "Nk [nan nan nan]\n",
      "0 nan\n",
      "1 nan\n",
      "2 nan\n",
      "Nk [nan nan nan]\n",
      "0 nan\n",
      "1 nan\n",
      "2 nan\n"
     ]
    },
    {
     "name": "stderr",
     "output_type": "stream",
     "text": [
      "/anaconda3/lib/python3.6/site-packages/ipykernel_launcher.py:2: RuntimeWarning: divide by zero encountered in double_scalars\n",
      "  \n",
      "/anaconda3/lib/python3.6/site-packages/ipykernel_launcher.py:2: RuntimeWarning: invalid value encountered in double_scalars\n",
      "  \n"
     ]
    }
   ],
   "source": [
    "%matplotlib auto\n",
    "plt.ion()\n",
    "\n",
    "em_steps = 10\n",
    "mog_estimate, w = em_init(x, 3)\n",
    "\n",
    "plt.figure(1)\n",
    "for s in range(em_steps):\n",
    "    plt.clf()\n",
    "    plot_mog(mog_estimate, x_values)\n",
    "    plt.plot(x,np.zeros(x.shape),'*')\n",
    "    plt.title('EM step %s' % s)\n",
    "    plt.pause(5)\n",
    "    w = e_step(x, mog_estimate)\n",
    "    mog_estimate = m_step(x, mog_estimate, w)"
   ]
  },
  {
   "cell_type": "code",
   "execution_count": 14,
   "metadata": {},
   "outputs": [],
   "source": [
    "plt.figure(1)\n",
    "plt.close()"
   ]
  },
  {
   "cell_type": "code",
   "execution_count": null,
   "metadata": {},
   "outputs": [],
   "source": []
  }
 ],
 "metadata": {
  "kernelspec": {
   "display_name": "Python 3",
   "language": "python",
   "name": "python3"
  },
  "language_info": {
   "codemirror_mode": {
    "name": "ipython",
    "version": 3
   },
   "file_extension": ".py",
   "mimetype": "text/x-python",
   "name": "python",
   "nbconvert_exporter": "python",
   "pygments_lexer": "ipython3",
   "version": "3.6.5"
  }
 },
 "nbformat": 4,
 "nbformat_minor": 2
}
