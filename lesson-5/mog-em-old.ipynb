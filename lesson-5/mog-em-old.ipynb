{
 "cells": [
  {
   "cell_type": "markdown",
   "metadata": {},
   "source": [
    "# Expectation Maximization (Mixture of Gaussians in 1D)"
   ]
  },
  {
   "cell_type": "code",
   "execution_count": 1,
   "metadata": {},
   "outputs": [
    {
     "name": "stdout",
     "output_type": "stream",
     "text": [
      "Using matplotlib backend: MacOSX\n"
     ]
    }
   ],
   "source": [
    "import numpy as np\n",
    "import matplotlib.pyplot as plt\n",
    "%matplotlib auto"
   ]
  },
  {
   "cell_type": "code",
   "execution_count": 2,
   "metadata": {},
   "outputs": [],
   "source": [
    "def gaussian1d(x, mu, sig):\n",
    "    return np.exp(-np.power(x - mu, 2.) / (2 * np.power(sig, 2.)))"
   ]
  },
  {
   "cell_type": "markdown",
   "metadata": {},
   "source": [
    "**Generate some data from a mixture of Gaussians**"
   ]
  },
  {
   "cell_type": "code",
   "execution_count": 3,
   "metadata": {},
   "outputs": [],
   "source": [
    "mixture_of_gaussians = [(-19, 2.5, 13), (-1, 4, 4), (15, 5, 9)]\n",
    "x_values = np.linspace(-30, 30, 120)"
   ]
  },
  {
   "cell_type": "code",
   "execution_count": 4,
   "metadata": {},
   "outputs": [],
   "source": [
    "def plot_mog(mog, x_values):\n",
    "    for mu, sig, num in mog:\n",
    "        plt.plot(x_values, gaussian1d(x_values, mu, sig))\n",
    "#plot_mog(mixture_of_gaussians, x_values)"
   ]
  },
  {
   "cell_type": "code",
   "execution_count": 5,
   "metadata": {},
   "outputs": [
    {
     "data": {
      "text/plain": [
       "[<matplotlib.lines.Line2D at 0x10cf08128>]"
      ]
     },
     "execution_count": 5,
     "metadata": {},
     "output_type": "execute_result"
    },
    {
     "data": {
      "image/png": "[encoded data removed]",
      "text/plain": [
       "<Figure size 432x288 with 1 Axes>"
      ]
     },
     "metadata": {},
     "output_type": "display_data"
    }
   ],
   "source": [
    "N = 0\n",
    "for _, _, num in mixture_of_gaussians:\n",
    "    N += num\n",
    "x = np.empty([N])\n",
    "s = 0\n",
    "for mu, sig, num in mixture_of_gaussians:\n",
    "    x[s:s+num] = np.random.normal(mu, sig, num)\n",
    "    s += num\n",
    "#print(x)\n",
    "\n",
    "plot_mog(mixture_of_gaussians, x_values)\n",
    "plt.plot(x,np.zeros(x.shape),'*')"
   ]
  },
  {
   "cell_type": "markdown",
   "metadata": {},
   "source": [
    "## Expectation Maximization"
   ]
  },
  {
   "cell_type": "markdown",
   "metadata": {},
   "source": [
    "Initialization"
   ]
  },
  {
   "cell_type": "code",
   "execution_count": 6,
   "metadata": {},
   "outputs": [],
   "source": [
    "def em_init(x, K):\n",
    "    N = len(x)\n",
    "    \n",
    "    mog_estimate = []\n",
    "    for k in range(K):\n",
    "        mog_estimate.append((np.random.uniform(-20,20),np.random.uniform(1,3),1./K))\n",
    "        \n",
    "    w = np.empty([N, K])\n",
    "    return mog_estimate, w"
   ]
  },
  {
   "cell_type": "markdown",
   "metadata": {},
   "source": [
    "E Step"
   ]
  },
  {
   "cell_type": "code",
   "execution_count": 7,
   "metadata": {},
   "outputs": [],
   "source": [
    "def e_step(x, mog_estimate):\n",
    "    N = len(x)\n",
    "    K = len(mog_estimate)\n",
    "    \n",
    "    for i in range(N):\n",
    "        for k in range(K):\n",
    "            mu, sig, alpha = mog_estimate[k]\n",
    "            w[i,k] = gaussian1d(x[i], mu, sig) * alpha\n",
    "        w[i,:] /= np.linalg.norm(w[i,:])\n",
    "    return w"
   ]
  },
  {
   "cell_type": "markdown",
   "metadata": {},
   "source": [
    "M Step"
   ]
  },
  {
   "cell_type": "code",
   "execution_count": 8,
   "metadata": {},
   "outputs": [],
   "source": [
    "def m_step(x, mog_estimate, w):\n",
    "    Nk = np.sum(w,0)\n",
    "    K = len(mog_estimate)\n",
    "    \n",
    "    for k in range(K):\n",
    "        new_alpha = Nk[k]/N\n",
    "        new_mean = np.dot(w[:,k], x)/Nk[k]\n",
    "        new_sigma = np.sqrt(np.dot(w[:,k], np.square(x - new_mean))/Nk[k])\n",
    "        mog_estimate[k] = (new_mean, new_sigma, new_alpha)\n",
    "    return mog_estimate"
   ]
  },
  {
   "cell_type": "markdown",
   "metadata": {},
   "source": [
    "EM in action"
   ]
  },
  {
   "cell_type": "code",
   "execution_count": 15,
   "metadata": {},
   "outputs": [
    {
     "name": "stdout",
     "output_type": "stream",
     "text": [
      "Using matplotlib backend: MacOSX\n"
     ]
    }
   ],
   "source": [
    "%matplotlib auto\n",
    "plt.ion()\n",
    "\n",
    "em_steps = 10\n",
    "mog_estimate, w = em_init(x, 3)\n",
    "\n",
    "plt.figure(1)\n",
    "for s in range(em_steps):\n",
    "    plt.clf()\n",
    "    plot_mog(mog_estimate, x_values)\n",
    "    plt.plot(x,np.zeros(x.shape),'*')\n",
    "    plt.title('EM step %s' % s)\n",
    "    plt.pause(0.5)\n",
    "    w = e_step(x, mog_estimate)\n",
    "    mog_estimate = m_step(x, mog_estimate, w)"
   ]
  },
  {
   "cell_type": "code",
   "execution_count": 12,
   "metadata": {},
   "outputs": [],
   "source": [
    "plt.figure(1)\n",
    "plt.close()"
   ]
  },
  {
   "cell_type": "code",
   "execution_count": null,
   "metadata": {},
   "outputs": [],
   "source": []
  }
 ],
 "metadata": {
  "kernelspec": {
   "display_name": "Python 3",
   "language": "python",
   "name": "python3"
  },
  "language_info": {
   "codemirror_mode": {
    "name": "ipython",
    "version": 3
   },
   "file_extension": ".py",
   "mimetype": "text/x-python",
   "name": "python",
   "nbconvert_exporter": "python",
   "pygments_lexer": "ipython3",
   "version": "3.6.5"
  }
 },
 "nbformat": 4,
 "nbformat_minor": 2
}
